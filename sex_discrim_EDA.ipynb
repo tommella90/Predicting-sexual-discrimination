{
 "cells": [
  {
   "cell_type": "markdown",
   "source": [
    "# IMPLICIT SEXUAL DISCRIMINATION\n",
    "### DESCRIPTION\n",
    "I use the Harvard test IAT to explore potential predictors of implicit sexual discrimination. The IAT association test is a cognitive test used to measure implicit discrimination through associatons (e.g.: associate good/bad inputs with gay/straight inputs) as time reactions. For a deeper explanation, [click here](https://implicit.harvard.edu/implicit/takeatest.html)\n",
    "### RESEARCH QUESTION\n",
    "Which individual characteristics predict implicit sexual discrimination? The IAT tests asks the respondents to fill some information about their believes, politics orientations, explicit discrimination and so on. I use these information to predict the measure of implicit discrimination (time reaction to the association test).\n",
    "### HOW:\n",
    "I will use:\n",
    "- 2021 DATASET AS TRAINING DATA\n",
    "- 2020 DATASET AS TEST SET\n",
    "Data found at [this link](https://implicit.harvard.edu/implicit/takeatest.html)"
   ],
   "metadata": {
    "collapsed": false
   }
  },
  {
   "cell_type": "code",
   "execution_count": 6,
   "outputs": [],
   "source": [
    "## import libraries\n",
    "import pandas as pd\n",
    "import numpy as np\n",
    "import warnings\n",
    "warnings.filterwarnings('ignore')"
   ],
   "metadata": {
    "collapsed": false
   }
  },
  {
   "cell_type": "code",
   "execution_count": 7,
   "outputs": [],
   "source": [
    "df = pd.read_spss('Sexuality_IAT.public.2020.sav')"
   ],
   "metadata": {
    "collapsed": false
   }
  },
  {
   "cell_type": "code",
   "execution_count": null,
   "outputs": [],
   "source": [
    "df.to_excel()"
   ],
   "metadata": {
    "collapsed": false
   }
  }
 ],
 "metadata": {
  "kernelspec": {
   "display_name": "Python 3",
   "language": "python",
   "name": "python3"
  },
  "language_info": {
   "codemirror_mode": {
    "name": "ipython",
    "version": 2
   },
   "file_extension": ".py",
   "mimetype": "text/x-python",
   "name": "python",
   "nbconvert_exporter": "python",
   "pygments_lexer": "ipython2",
   "version": "2.7.6"
  }
 },
 "nbformat": 4,
 "nbformat_minor": 0
}
