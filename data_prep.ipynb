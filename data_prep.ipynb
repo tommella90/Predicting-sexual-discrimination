{
 "cells": [
  {
   "cell_type": "markdown",
   "source": [
    "# IMPLICIT SEXUAL DISCRIMINATION\n",
    "### DESCRIPTION\n",
    "I use the Harvard test IAT to explore potential predictors of implicit sexual discrimination. The IAT association test is a cognitive test used to measure implicit discrimination through associatons (e.g.: associate good/bad inputs with gay/straight inputs) as time reactions. For a deeper explanation, [click here](https://implicit.harvard.edu/implicit/takeatest.html)\n",
    "### RESEARCH QUESTION\n",
    "Which individual characteristics predict implicit sexual discrimination? The IAT tests asks the respondents to fill some information about their believes, politics orientations, explicit discrimination and so on. I use these information to predict the measure of implicit discrimination (time reaction to the association test).\n",
    "### HOW:\n",
    "I will use:\n",
    "- 2021 DATASET AS TRAINING DATA\n",
    "- 2020 DATASET AS TEST SET\n",
    "Data found at [this link](https://implicit.harvard.edu/implicit/takeatest.html)"
   ],
   "metadata": {
    "collapsed": false,
    "pycharm": {
     "name": "#%% md\n"
    }
   }
  },
  {
   "cell_type": "markdown",
   "source": [
    "## DATA CLEANING"
   ],
   "metadata": {
    "collapsed": false,
    "pycharm": {
     "name": "#%% md\n"
    }
   }
  },
  {
   "cell_type": "markdown",
   "source": [
    "#### IMPORT THE DATA AND CLEAN COLUMNS"
   ],
   "metadata": {
    "collapsed": false,
    "pycharm": {
     "name": "#%% md\n"
    }
   }
  },
  {
   "cell_type": "code",
   "execution_count": 33,
   "outputs": [],
   "source": [
    "## import libraries\n",
    "import pandas as pd\n",
    "import numpy as np\n",
    "import warnings\n",
    "warnings.filterwarnings('ignore')"
   ],
   "metadata": {
    "collapsed": false,
    "pycharm": {
     "name": "#%%\n"
    }
   }
  },
  {
   "cell_type": "code",
   "execution_count": 34,
   "outputs": [],
   "source": [
    "## OPEN DATA\n",
    "df1 = pd.read_spss('Sexuality_IAT.public.2020.sav')\n",
    "df2 = pd.read_spss('Sexuality_IAT.public.2021.sav')\n",
    "df1['test'], df2['test'] = 0, 1"
   ],
   "metadata": {
    "collapsed": false,
    "pycharm": {
     "name": "#%%\n"
    }
   }
  },
  {
   "cell_type": "code",
   "execution_count": 4,
   "outputs": [
    {
     "data": {
      "text/plain": "                       index  missing\n0             session_status        0\n1    previous_session_schema        0\n2                    user_id        0\n3             broughtwebsite        0\n4             occuSelfDetail        0\n..                       ...      ...\n137                   pvd010   477153\n138                   pvd013   477163\n139                   pvd012   477172\n140                   pvd014   477195\n141                   pvd015   477375\n\n[142 rows x 2 columns]",
      "text/html": "<div>\n<style scoped>\n    .dataframe tbody tr th:only-of-type {\n        vertical-align: middle;\n    }\n\n    .dataframe tbody tr th {\n        vertical-align: top;\n    }\n\n    .dataframe thead th {\n        text-align: right;\n    }\n</style>\n<table border=\"1\" class=\"dataframe\">\n  <thead>\n    <tr style=\"text-align: right;\">\n      <th></th>\n      <th>index</th>\n      <th>missing</th>\n    </tr>\n  </thead>\n  <tbody>\n    <tr>\n      <th>0</th>\n      <td>session_status</td>\n      <td>0</td>\n    </tr>\n    <tr>\n      <th>1</th>\n      <td>previous_session_schema</td>\n      <td>0</td>\n    </tr>\n    <tr>\n      <th>2</th>\n      <td>user_id</td>\n      <td>0</td>\n    </tr>\n    <tr>\n      <th>3</th>\n      <td>broughtwebsite</td>\n      <td>0</td>\n    </tr>\n    <tr>\n      <th>4</th>\n      <td>occuSelfDetail</td>\n      <td>0</td>\n    </tr>\n    <tr>\n      <th>...</th>\n      <td>...</td>\n      <td>...</td>\n    </tr>\n    <tr>\n      <th>137</th>\n      <td>pvd010</td>\n      <td>477153</td>\n    </tr>\n    <tr>\n      <th>138</th>\n      <td>pvd013</td>\n      <td>477163</td>\n    </tr>\n    <tr>\n      <th>139</th>\n      <td>pvd012</td>\n      <td>477172</td>\n    </tr>\n    <tr>\n      <th>140</th>\n      <td>pvd014</td>\n      <td>477195</td>\n    </tr>\n    <tr>\n      <th>141</th>\n      <td>pvd015</td>\n      <td>477375</td>\n    </tr>\n  </tbody>\n</table>\n<p>142 rows × 2 columns</p>\n</div>"
     },
     "execution_count": 4,
     "metadata": {},
     "output_type": "execute_result"
    }
   ],
   "source": [
    "## See missing values in columns\n",
    "def sort_missing(df):\n",
    "    ## sort by number of missing values\n",
    "    missing, keys, values = {}, [], []\n",
    "    for i in df.columns:\n",
    "        keys.append(i)\n",
    "        values.append(df[f'{i}'].isna().sum())\n",
    "    missing = dict(zip(keys, values))\n",
    "    missing = pd.DataFrame(missing.values(), missing.keys())\n",
    "    missing = missing.iloc[1:, :]\n",
    "    missing.rename(columns = {0: \"missing\"}, inplace=True)\n",
    "    missing.sort_values(by=\"missing\", ascending=True, inplace=True)\n",
    "    missing.reset_index(inplace=True)\n",
    "    return missing\n",
    "\n",
    "sort_missing(df1)"
   ],
   "metadata": {
    "collapsed": false,
    "pycharm": {
     "name": "#%%\n"
    }
   }
  },
  {
   "cell_type": "code",
   "execution_count": 35,
   "outputs": [
    {
     "ename": "AttributeError",
     "evalue": "'DataFrame' object has no attribute 'contactmet_num'",
     "output_type": "error",
     "traceback": [
      "\u001B[1;31m---------------------------------------------------------------------------\u001B[0m",
      "\u001B[1;31mAttributeError\u001B[0m                            Traceback (most recent call last)",
      "Input \u001B[1;32mIn [35]\u001B[0m, in \u001B[0;36m<cell line: 1>\u001B[1;34m()\u001B[0m\n\u001B[1;32m----> 1\u001B[0m \u001B[43mdf\u001B[49m\u001B[38;5;241;43m.\u001B[39;49m\u001B[43mcontactmet_num\u001B[49m\u001B[38;5;241m.\u001B[39mvalue_counts\n",
      "File \u001B[1;32m~\\anaconda3\\envs\\ds\\lib\\site-packages\\pandas\\core\\generic.py:5575\u001B[0m, in \u001B[0;36mNDFrame.__getattr__\u001B[1;34m(self, name)\u001B[0m\n\u001B[0;32m   5568\u001B[0m \u001B[38;5;28;01mif\u001B[39;00m (\n\u001B[0;32m   5569\u001B[0m     name \u001B[38;5;129;01mnot\u001B[39;00m \u001B[38;5;129;01min\u001B[39;00m \u001B[38;5;28mself\u001B[39m\u001B[38;5;241m.\u001B[39m_internal_names_set\n\u001B[0;32m   5570\u001B[0m     \u001B[38;5;129;01mand\u001B[39;00m name \u001B[38;5;129;01mnot\u001B[39;00m \u001B[38;5;129;01min\u001B[39;00m \u001B[38;5;28mself\u001B[39m\u001B[38;5;241m.\u001B[39m_metadata\n\u001B[0;32m   5571\u001B[0m     \u001B[38;5;129;01mand\u001B[39;00m name \u001B[38;5;129;01mnot\u001B[39;00m \u001B[38;5;129;01min\u001B[39;00m \u001B[38;5;28mself\u001B[39m\u001B[38;5;241m.\u001B[39m_accessors\n\u001B[0;32m   5572\u001B[0m     \u001B[38;5;129;01mand\u001B[39;00m \u001B[38;5;28mself\u001B[39m\u001B[38;5;241m.\u001B[39m_info_axis\u001B[38;5;241m.\u001B[39m_can_hold_identifiers_and_holds_name(name)\n\u001B[0;32m   5573\u001B[0m ):\n\u001B[0;32m   5574\u001B[0m     \u001B[38;5;28;01mreturn\u001B[39;00m \u001B[38;5;28mself\u001B[39m[name]\n\u001B[1;32m-> 5575\u001B[0m \u001B[38;5;28;01mreturn\u001B[39;00m \u001B[38;5;28;43mobject\u001B[39;49m\u001B[38;5;241;43m.\u001B[39;49m\u001B[38;5;21;43m__getattribute__\u001B[39;49m\u001B[43m(\u001B[49m\u001B[38;5;28;43mself\u001B[39;49m\u001B[43m,\u001B[49m\u001B[43m \u001B[49m\u001B[43mname\u001B[49m\u001B[43m)\u001B[49m\n",
      "\u001B[1;31mAttributeError\u001B[0m: 'DataFrame' object has no attribute 'contactmet_num'"
     ]
    }
   ],
   "source": [
    "df.contactmet_num.value_counts"
   ],
   "metadata": {
    "collapsed": false,
    "pycharm": {
     "name": "#%%\n"
    }
   }
  },
  {
   "cell_type": "code",
   "execution_count": 5,
   "outputs": [],
   "source": [
    "## define test and training\n",
    "df1['test'], df2['test'] = 0, 1\n",
    "\n",
    "## choose variables of interes (see codebook)\n",
    "columns =   ['weekday', 'birthyear', 'num_002', 'birthSex', 'genderIdentity',\n",
    "            'sexuality_5', 'ethnicityomb', 'raceomb_002', 'raceombmulti', 'D_biep.Straight_Good_all',\n",
    "            'Mn_RT_all_3467', 'PCT_error_3467', 'Side_Good_34', 'Side_Straight_34',\n",
    "            'Tgayleswomen', 'Tgaymen', 'Tstraightmen', 'Tstraightwomen', 'att_7',\n",
    "            'contactfamily_num', 'contactfriend_num', 'contactfriendly_num',\n",
    "            'contactmet_num', 'adoptchild', 'marriagerights_3num',\n",
    "            'relationslegal_3num', 'serverights', 'transgender', 'countrycit_num',\n",
    "            'edu', 'edu_14', 'politicalid_7', 'occuSelf', 'occuSelfDetail',\n",
    "            'religion2014', 'religionid', 'test']\n",
    "\n",
    "## merge the datasets\n",
    "df1 = pd.DataFrame(df1, columns = columns)\n",
    "df2 = pd.DataFrame(df2, columns = columns)\n",
    "df = pd.concat([df1, df2])\n",
    "\n",
    "## lower case\n",
    "for i in df.columns:\n",
    "    df.rename(columns = {f\"{i}\": f\"{i.lower()}\"}, inplace=True)\n"
   ],
   "metadata": {
    "collapsed": false,
    "pycharm": {
     "name": "#%%\n"
    }
   }
  },
  {
   "cell_type": "code",
   "execution_count": 6,
   "outputs": [],
   "source": [
    "## RENAME COLUMNS\n",
    "df.rename(columns = {\"d_biep.straight_good_all\": \"iat\",\n",
    "                     \"birthyear\": \"y_birth\",\n",
    "                     \"att_7\": \"prefer_straight\",\n",
    "                     \"politicalid_7\": \"liberal\",\n",
    "                     \"religionid\": \"religious\",\n",
    "                     \"genderidentity\": \"gn_id\",\n",
    "                     \"side_straight_34\": \"straight_first\",\n",
    "                     'contactfamily_num': \"fam. member\",\n",
    "                     'contactfriend_num': \"friend\",\n",
    "                     'contactfriendly_num': \"friendly\",\n",
    "                     'contactmet_num': \"met gay\",\n",
    "                     'adoptchild': \"adoption\",\n",
    "                     'marriagerights_3num': \"marriage\",\n",
    "                     'relationslegal_3num': \"relation\",\n",
    "                     'serverights': \"work\"},\n",
    "          inplace=True)"
   ],
   "metadata": {
    "collapsed": false,
    "pycharm": {
     "name": "#%%\n"
    }
   }
  },
  {
   "cell_type": "markdown",
   "source": [
    "#### PREPARE VARIABLES"
   ],
   "metadata": {
    "collapsed": false,
    "pycharm": {
     "name": "#%% md\n"
    }
   }
  },
  {
   "cell_type": "code",
   "execution_count": 7,
   "outputs": [],
   "source": [
    "#Keep only those who do the test for the first time\n",
    "df['num_002'].unique()\n",
    "df = df.loc[df['num_002'] == str(1)]\n",
    "df.drop(['num_002'], axis = 1, inplace = True)"
   ],
   "metadata": {
    "collapsed": false,
    "pycharm": {
     "name": "#%%\n"
    }
   }
  },
  {
   "cell_type": "code",
   "execution_count": 8,
   "outputs": [],
   "source": [
    "## Transform string to integer\n",
    "def KeepNumber(col):\n",
    "    col = col.str.extract('(\\d+)')\n",
    "    return col\n",
    "\n",
    "num = ['tgayleswomen', 'tgaymen', 'tstraightmen', 'tstraightwomen']\n",
    "for i in num:\n",
    "    df[i] = KeepNumber(df[i])"
   ],
   "metadata": {
    "collapsed": false,
    "pycharm": {
     "name": "#%%\n"
    }
   }
  },
  {
   "cell_type": "code",
   "execution_count": 9,
   "outputs": [],
   "source": [
    "## Generate row means of variables (might add pca)\n",
    "def row_mean(subset, sample):\n",
    "    newcol = subset.sum(axis=1) / sample\n",
    "    return newcol\n",
    "\n",
    "## gender feeling: being confortable with gay people\n",
    "df['gender_feel'] = row_mean(df.loc[:, ['tgayleswomen', 'tgaymen', 'tstraightmen', 'tstraightwomen']], 4)\n",
    "\n",
    "## gender prejudice: explicit gendere prejudice\n",
    "#df['gender_preg'] = row_mean(df.loc[:, ['adoptchild', 'marriagerights_3num', 'relationslegal_3num',\n",
    "#                                    'serverights', 'transgender', 'countrycit_num']], 6)\n",
    "\n",
    "df['gender_feel'] = df['gender_feel'].astype(float)"
   ],
   "metadata": {
    "collapsed": false,
    "pycharm": {
     "name": "#%%\n"
    }
   }
  },
  {
   "cell_type": "code",
   "execution_count": 10,
   "outputs": [],
   "source": [
    "## Var: Sex assignet at birth\n",
    "def CleanBirthSex(col):\n",
    "    col = col.replace({1: \"Male\", 2: \"Female\"},\n",
    "                      inplace = True)\n",
    "    return col\n",
    "\n",
    "CleanBirthSex(df['birthsex'])"
   ],
   "metadata": {
    "collapsed": false,
    "pycharm": {
     "name": "#%%\n"
    }
   }
  },
  {
   "cell_type": "code",
   "execution_count": 11,
   "outputs": [],
   "source": [
    "## RE-CATEGORIZE VARIABLES VALUES AND CLEAN\n",
    "## give names to categorical values\n",
    "#df = df.astype('object')\n",
    "\n",
    "gn = []\n",
    "for a, b in df['gn_id'].iteritems():\n",
    "    if len(b)==5 and b[0] =='[' or len(b)==7 and b[0] =='[' or len(b)==9 and b[0] =='[' or len(b)==11 and b[0] =='[' or len(b) == 13 and b[0] == '[':\n",
    "        gn.append(b[1])\n",
    "    else:\n",
    "        gn.append(b)\n",
    "\n",
    "df['gn_id'] = gn"
   ],
   "metadata": {
    "collapsed": false,
    "pycharm": {
     "name": "#%%\n"
    }
   }
  },
  {
   "cell_type": "code",
   "execution_count": 12,
   "outputs": [
    {
     "data": {
      "text/plain": "['F', 'M', 'queer', 'other', 'Trans_M', nan, 'Trans_F']"
     },
     "execution_count": 12,
     "metadata": {},
     "output_type": "execute_result"
    }
   ],
   "source": [
    "## Transform gender identity to dummy: binary/non binary\n",
    "df['gn_id'].replace({'[1]':'M', '[2]':'F', '[3]': 'Trans_M',\n",
    "                     '[4]': 'Trans_F', '[5]': 'queer', '[6]': 'other',\n",
    "                     '1':'M', '2':'F', '3': 'Trans_M',\n",
    "                     '4': 'Trans_F', '5': 'queer', '6': 'other', \"\": np.nan },\n",
    "                    inplace=True)\n",
    "list(df['gn_id'].unique())"
   ],
   "metadata": {
    "collapsed": false,
    "pycharm": {
     "name": "#%%\n"
    }
   }
  },
  {
   "cell_type": "code",
   "execution_count": 13,
   "outputs": [],
   "source": [
    "def CleanGender1(x):\n",
    "    if x in ['M', 'F']:\n",
    "        return 'binary'\n",
    "    else:\n",
    "        return 'non_binary'\n",
    "df['gn_id'] = list(map(CleanGender1, df['gn_id']))"
   ],
   "metadata": {
    "collapsed": false,
    "pycharm": {
     "name": "#%%\n"
    }
   }
  },
  {
   "cell_type": "code",
   "execution_count": 14,
   "outputs": [],
   "source": [
    "## Var: sexuality to dummy: Straight/non Straight\n",
    "df.sexuality_5.unique()\n",
    "def Sexuality(col):\n",
    "    col.replace({'Heterosexual or Straight': 'Yes',\n",
    "                 'Bisexual':'No',\n",
    "                 'Other': 'No',\n",
    "                 'Lesbian or Gay': 'No'},\n",
    "                inplace=True)\n",
    "    return col\n",
    "\n",
    "df['sexuality_5'] = Sexuality(df['sexuality_5'])\n",
    "df.rename(columns={'sexuality_5': 'straight'}, inplace=True)"
   ],
   "metadata": {
    "collapsed": false,
    "pycharm": {
     "name": "#%%\n"
    }
   }
  },
  {
   "cell_type": "code",
   "execution_count": 15,
   "outputs": [],
   "source": [
    "## Var: Attitude towards gay people at work (Against or not)\n",
    "df.work.unique()\n",
    "def CleanWork(col):\n",
    "    col.replace({'Should not be legal': 'Against',\n",
    "                 'Should be legal':'Pro/neutral',\n",
    "                 'No opinion': 'Pro/neutral'},\n",
    "                inplace=True)\n",
    "    return col\n",
    "df['work'] = CleanWork(df['work'])"
   ],
   "metadata": {
    "collapsed": false,
    "pycharm": {
     "name": "#%%\n"
    }
   }
  },
  {
   "cell_type": "code",
   "execution_count": 16,
   "outputs": [],
   "source": [
    "## Var: Trans people should use bathroom rooms of sex assigner at birth: against or not\n",
    "df.transgender.unique()\n",
    "\n",
    "def CleanTransgender(col):\n",
    "    col.replace({'Transgender people should use the bathroom/locker rooms of the sex they were assigned '\n",
    "                 'at birth': 'Against',\n",
    "                 'Transgender people should use the bathrooms/locker rooms of their preferred gender identity':'Pro'},\n",
    "                inplace=True)\n",
    "    return col\n",
    "df['transgender'] = CleanTransgender(df['transgender'])"
   ],
   "metadata": {
    "collapsed": false,
    "pycharm": {
     "name": "#%%\n"
    }
   }
  },
  {
   "cell_type": "code",
   "execution_count": 17,
   "outputs": [],
   "source": [
    "## Var: Marriage between gay people: Against or not\n",
    "df.marriage.unique()\n",
    "def CleanMarriage(col):\n",
    "    col.replace({'Should not be valid': 'Against',\n",
    "                 'Should be valid': 'Pro/neutral',\n",
    "                 'No opinion': 'Pro/neutral'},\n",
    "                inplace=True)\n",
    "    return col\n",
    "df['marriage'] = CleanMarriage(df['marriage'])"
   ],
   "metadata": {
    "collapsed": false,
    "pycharm": {
     "name": "#%%\n"
    }
   }
  },
  {
   "cell_type": "code",
   "execution_count": 18,
   "outputs": [],
   "source": [
    "## Var: Adoption for gay people: Against or not\n",
    "def CleanAdoption(col):\n",
    "    col.replace({'Should not be legal': 'Against',\n",
    "                 'Should be legal': 'Pro/neutral',\n",
    "                 'No opinion': 'Pro/neutral'},\n",
    "                inplace=True)\n",
    "    return col\n",
    "df['adoption'] = CleanAdoption(df['adoption'])"
   ],
   "metadata": {
    "collapsed": false,
    "pycharm": {
     "name": "#%%\n"
    }
   }
  },
  {
   "cell_type": "code",
   "execution_count": 19,
   "outputs": [],
   "source": [
    "## Var: Relation between gay people: Against or not\n",
    "def CleanRelation(col):\n",
    "    col.replace({'Should not be legal': 'Against',\n",
    "                 'Should be legal': 'Pro/neutral',\n",
    "                 'No opinion': 'Pro/neutral'},\n",
    "                inplace=True)\n",
    "    return col\n",
    "df['relation'] = CleanRelation(df['relation'])"
   ],
   "metadata": {
    "collapsed": false,
    "pycharm": {
     "name": "#%%\n"
    }
   }
  },
  {
   "cell_type": "code",
   "execution_count": 20,
   "outputs": [
    {
     "data": {
      "text/plain": "White                                        125799\nBlack or African American                     13138\nOther or unknown                              10163\nMultiracial                                    9208\nEast Asian                                     7151\nSouth Asian                                    5791\nAmerican Indian/Alaska Native                  1410\nNative Hawaiian or other Pacific Islander      1081\nName: raceomb_002, dtype: int64"
     },
     "execution_count": 20,
     "metadata": {},
     "output_type": "execute_result"
    }
   ],
   "source": [
    "## Var: Ethnicity (create categories)\n",
    "df.raceomb_002.unique()\n",
    "df.raceomb_002.value_counts()"
   ],
   "metadata": {
    "collapsed": false,
    "pycharm": {
     "name": "#%%\n"
    }
   }
  },
  {
   "cell_type": "code",
   "execution_count": 21,
   "outputs": [],
   "source": [
    "def CleanRace(col):\n",
    "    col = col.replace({'American Indian/Alaska Native': 'Other or unknown',\n",
    "                       'Native Hawaiian or other Pacific Islander':'Other or unknown'})\n",
    "    return col\n",
    "df['raceomb_002'] = CleanRace(df['raceomb_002'])\n",
    "df.rename(columns={'raceomb_002': 'race'}, inplace=True)"
   ],
   "metadata": {
    "collapsed": false,
    "pycharm": {
     "name": "#%%\n"
    }
   }
  },
  {
   "cell_type": "code",
   "execution_count": 22,
   "outputs": [],
   "source": [
    "## Var: Prefer gay or straight people (numerical)\n",
    "def CleanPrefStraight(col):\n",
    "    col = col.replace({'I strongly prefer Straight People to Gay People.': 7,\n",
    "                       'I moderately prefer Straight People to Gay People.': 6,\n",
    "                       'I slightly prefer Straight People to Gay People.': 5,\n",
    "                       'I like Straight People and Gay People equally.': 4,\n",
    "                       'I slightly prefer Gay People to Straight People.': 3,\n",
    "                       'I moderately prefer Gay People to Straight People.': 2,\n",
    "                       'I strongly prefer Gay People to Straight People.': 1}\n",
    "                      )\n",
    "    return col\n",
    "df['prefer_straight'] = CleanPrefStraight(df['prefer_straight'])"
   ],
   "metadata": {
    "collapsed": false,
    "pycharm": {
     "name": "#%%\n"
    }
   }
  },
  {
   "cell_type": "code",
   "execution_count": 23,
   "outputs": [
    {
     "data": {
      "text/plain": "4    104541\n3     19137\n5     17040\n2     10763\n6      9670\n7      9643\n1      7645\nName: prefer_straight, dtype: int64"
     },
     "execution_count": 23,
     "metadata": {},
     "output_type": "execute_result"
    }
   ],
   "source": [
    "df.prefer_straight.value_counts()"
   ],
   "metadata": {
    "collapsed": false,
    "pycharm": {
     "name": "#%%\n"
    }
   }
  },
  {
   "cell_type": "code",
   "execution_count": 24,
   "outputs": [],
   "source": [
    "## Var: Political orientation: Liberal vs Conservative (numerical)\n",
    "def CleanPolitics(col):\n",
    "    col = col.replace({'strongly liberal': 7,\n",
    "                       'moderately liberal': 6,\n",
    "                       'slightly liberal': 5,\n",
    "                       'neutral': 4,\n",
    "                       'slightly conservative': 3,\n",
    "                       'moderately conservative': 2,\n",
    "                       'strongly conservative': 1}\n",
    "                      )\n",
    "    return col\n",
    "df['liberal'] = CleanPolitics(df['liberal'])\n",
    "df['liberal'] = df['liberal'].astype('float32')"
   ],
   "metadata": {
    "collapsed": false,
    "pycharm": {
     "name": "#%%\n"
    }
   }
  },
  {
   "cell_type": "code",
   "execution_count": 25,
   "outputs": [],
   "source": [
    "## Var: Religious (numerical)\n",
    "def CleanReligion(col):\n",
    "    col = col.replace({'strongly religious': 4,\n",
    "                       'moderately religious': 3,\n",
    "                       'slightly religious': 2,\n",
    "                       'not at all religious': 1}\n",
    "                      )\n",
    "    return col\n",
    "df['religious'] = CleanReligion(df['religious'])\n",
    "df['religious'] = df['religious'].astype('float32')"
   ],
   "metadata": {
    "collapsed": false,
    "pycharm": {
     "name": "#%%\n"
    }
   }
  },
  {
   "cell_type": "code",
   "execution_count": 26,
   "outputs": [],
   "source": [
    "## Choose final columns\n",
    "final_columns = ['y_birth', 'birthsex', 'gn_id', 'straight', 'race', 'iat', 'straight_first',\n",
    "                 'prefer_straight', 'fam. member', 'friend', 'friendly',\n",
    "                 'met gay', 'edu', 'liberal', 'religious', 'gender_feel',\n",
    "                 \"adoption\", \"marriage\", \"relation\", \"work\", \"transgender\", 'test']\n",
    "\n",
    "df = df[final_columns]"
   ],
   "metadata": {
    "collapsed": false,
    "pycharm": {
     "name": "#%%\n"
    }
   }
  },
  {
   "cell_type": "code",
   "execution_count": 27,
   "outputs": [],
   "source": [
    "## drop null values\n",
    "df = df.dropna()"
   ],
   "metadata": {
    "collapsed": false,
    "pycharm": {
     "name": "#%%\n"
    }
   }
  },
  {
   "cell_type": "markdown",
   "source": [
    "#### Split categorical and numerical variables"
   ],
   "metadata": {
    "collapsed": false,
    "pycharm": {
     "name": "#%% md\n"
    }
   }
  },
  {
   "cell_type": "code",
   "execution_count": 28,
   "outputs": [],
   "source": [
    "## numerical and categorical variables\n",
    "numerical_columns_selector = ['iat', 'y_birth', 'prefer_straight', 'edu', 'liberal', 'religious']\n",
    "\n",
    "categorical_columns_selector = ['birthsex', 'gn_id', 'straight', 'race', 'straight_first',\n",
    "                                'fam. member', 'friend', 'friendly', 'met gay', \"adoption\",\n",
    "                                \"marriage\", \"relation\", \"work\", \"transgender\", 'test']\n",
    "\n",
    "numerical_columns = df.loc[:, numerical_columns_selector]\n",
    "categorical_columns = df.loc[:, categorical_columns_selector]"
   ],
   "metadata": {
    "collapsed": false,
    "pycharm": {
     "name": "#%%\n"
    }
   }
  },
  {
   "cell_type": "code",
   "execution_count": 29,
   "outputs": [],
   "source": [
    "from sklearn.preprocessing import OneHotEncoder, StandardScaler\n",
    "\n",
    "## categorical columns: transform into dummies\n",
    "categorical_columns = pd.get_dummies(categorical_columns, drop_first=True)\n",
    "\n",
    "## numerical columns: standardize\n",
    "num_names = list(numerical_columns.columns)\n",
    "numerical_columns = StandardScaler().fit_transform(numerical_columns)\n",
    "numerical_columns = pd.DataFrame(numerical_columns)\n",
    "numerical_columns.columns = num_names"
   ],
   "metadata": {
    "collapsed": false,
    "pycharm": {
     "name": "#%%\n"
    }
   }
  },
  {
   "cell_type": "code",
   "execution_count": 30,
   "outputs": [],
   "source": [
    "## Merge numerical and categorical and save dataframe\n",
    "df = numerical_columns.merge(categorical_columns, left_index=True, right_index=True)\n",
    "df = df.dropna()\n",
    "df.head(10)\n",
    "df.to_csv('df_ready.csv')\n",
    "print(\"done\")"
   ],
   "metadata": {
    "collapsed": false,
    "pycharm": {
     "name": "#%%\n"
    }
   }
  }
 ],
 "metadata": {
  "kernelspec": {
   "display_name": "Python 3",
   "language": "python",
   "name": "python3"
  },
  "language_info": {
   "codemirror_mode": {
    "name": "ipython",
    "version": 2
   },
   "file_extension": ".py",
   "mimetype": "text/x-python",
   "name": "python",
   "nbconvert_exporter": "python",
   "pygments_lexer": "ipython2",
   "version": "2.7.6"
  }
 },
 "nbformat": 4,
 "nbformat_minor": 0
}