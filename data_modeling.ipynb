{
 "cells": [
  {
   "cell_type": "markdown",
   "source": [
    "# PPREDICT IMPLICIT SEXUAL DISCRIMINATION"
   ],
   "metadata": {
    "collapsed": false,
    "pycharm": {
     "name": "#%% md\n"
    }
   }
  },
  {
   "cell_type": "code",
   "execution_count": 233,
   "outputs": [],
   "source": [
    "import pandas as pd\n",
    "import seaborn as sns\n",
    "import plotly.express as px\n",
    "import numpy as np\n",
    "import plotly.io as pio\n",
    "import plotly.figure_factory as ff\n",
    "import statsmodels.api as sm\n",
    "#from sklearn.linear_model import LinearRegression\n",
    "#from sklearn.model_selection import train_test_split\n",
    "#from sklearn.preprocessing import StandardScaler\n",
    "#from sklearn.preprocessing import StandardScaler"
   ],
   "metadata": {
    "collapsed": false,
    "pycharm": {
     "name": "#%%\n"
    }
   }
  },
  {
   "cell_type": "code",
   "execution_count": 234,
   "outputs": [],
   "source": [
    "df = pd.read_csv('df_ready.csv', index_col=0)\n",
    "df = df.reset_index(drop=True)\n",
    "list_numericals = ['iat', 'y_birth', 'prefer_straight', 'edu', 'liberal', 'religious']\n",
    "num = df[list_numericals]"
   ],
   "metadata": {
    "collapsed": false,
    "pycharm": {
     "name": "#%%\n"
    }
   }
  },
  {
   "cell_type": "code",
   "execution_count": 235,
   "outputs": [
    {
     "data": {
      "text/plain": "<seaborn.axisgrid.FacetGrid at 0x22e5918d150>"
     },
     "execution_count": 235,
     "metadata": {},
     "output_type": "execute_result"
    },
    {
     "data": {
      "text/plain": "<Figure size 500x500 with 1 Axes>",
      "image/png": "[encoded data removed]"
     },
     "metadata": {},
     "output_type": "display_data"
    }
   ],
   "source": [
    "sns.displot(data=df, x='iat', kde=True)"
   ],
   "metadata": {
    "collapsed": false,
    "pycharm": {
     "name": "#%%\n"
    }
   }
  },
  {
   "cell_type": "code",
   "execution_count": 236,
   "outputs": [
    {
     "data": {
      "application/vnd.plotly.v1+json": {
       "data": [
        {
         "coloraxis": "coloraxis",
         "name": "0",
         "x": [
          "iat",
          "y_birth",
          "prefer_straight",
          "edu",
          "liberal",
          "religious"
         ],
         "y": [
          "iat",
          "y_birth",
          "prefer_straight",
          "edu",
          "liberal",
          "religious"
         ],
         "z": [
          [
           0.0,
           0.0,
           0.0,
           0.0,
           0.0,
           0.0
          ],
          [
           0.14184969837625216,
           0.0,
           0.0,
           0.0,
           0.0,
           0.0
          ],
          [
           0.4611631686108151,
           0.09325540169658925,
           0.0,
           0.0,
           0.0,
           0.0
          ],
          [
           0.045729669681391485,
           0.6080589278771281,
           0.03513422333290793,
           0.0,
           0.0,
           0.0
          ],
          [
           0.37953293125537024,
           0.014237341929181035,
           0.46350816137816697,
           0.0772042873235909,
           0.0,
           0.0
          ],
          [
           0.22842086063849207,
           0.07035362638348792,
           0.2923751849511337,
           0.017353237756310983,
           0.37580638928503224,
           0.0
          ]
         ],
         "type": "heatmap",
         "xaxis": "x",
         "yaxis": "y",
         "hovertemplate": "x: %{x}<br>y: %{y}<br>color: %{z}<extra></extra>"
        }
       ],
       "layout": {
        "template": {
         "data": {
          "histogram2dcontour": [
           {
            "type": "histogram2dcontour",
            "colorbar": {
             "outlinewidth": 0,
             "ticks": ""
            },
            "colorscale": [
             [
              0.0,
              "#0d0887"
             ],
             [
              0.1111111111111111,
              "#46039f"
             ],
             [
              0.2222222222222222,
              "#7201a8"
             ],
             [
              0.3333333333333333,
              "#9c179e"
             ],
             [
              0.4444444444444444,
              "#bd3786"
             ],
             [
              0.5555555555555556,
              "#d8576b"
             ],
             [
              0.6666666666666666,
              "#ed7953"
             ],
             [
              0.7777777777777778,
              "#fb9f3a"
             ],
             [
              0.8888888888888888,
              "#fdca26"
             ],
             [
              1.0,
              "#f0f921"
             ]
            ]
           }
          ],
          "choropleth": [
           {
            "type": "choropleth",
            "colorbar": {
             "outlinewidth": 0,
             "ticks": ""
            }
           }
          ],
          "histogram2d": [
           {
            "type": "histogram2d",
            "colorbar": {
             "outlinewidth": 0,
             "ticks": ""
            },
            "colorscale": [
             [
              0.0,
              "#0d0887"
             ],
             [
              0.1111111111111111,
              "#46039f"
             ],
             [
              0.2222222222222222,
              "#7201a8"
             ],
             [
              0.3333333333333333,
              "#9c179e"
             ],
             [
              0.4444444444444444,
              "#bd3786"
             ],
             [
              0.5555555555555556,
              "#d8576b"
             ],
             [
              0.6666666666666666,
              "#ed7953"
             ],
             [
              0.7777777777777778,
              "#fb9f3a"
             ],
             [
              0.8888888888888888,
              "#fdca26"
             ],
             [
              1.0,
              "#f0f921"
             ]
            ]
           }
          ],
          "heatmap": [
           {
            "type": "heatmap",
            "colorbar": {
             "outlinewidth": 0,
             "ticks": ""
            },
            "colorscale": [
             [
              0.0,
              "#0d0887"
             ],
             [
              0.1111111111111111,
              "#46039f"
             ],
             [
              0.2222222222222222,
              "#7201a8"
             ],
             [
              0.3333333333333333,
              "#9c179e"
             ],
             [
              0.4444444444444444,
              "#bd3786"
             ],
             [
              0.5555555555555556,
              "#d8576b"
             ],
             [
              0.6666666666666666,
              "#ed7953"
             ],
             [
              0.7777777777777778,
              "#fb9f3a"
             ],
             [
              0.8888888888888888,
              "#fdca26"
             ],
             [
              1.0,
              "#f0f921"
             ]
            ]
           }
          ],
          "heatmapgl": [
           {
            "type": "heatmapgl",
            "colorbar": {
             "outlinewidth": 0,
             "ticks": ""
            },
            "colorscale": [
             [
              0.0,
              "#0d0887"
             ],
             [
              0.1111111111111111,
              "#46039f"
             ],
             [
              0.2222222222222222,
              "#7201a8"
             ],
             [
              0.3333333333333333,
              "#9c179e"
             ],
             [
              0.4444444444444444,
              "#bd3786"
             ],
             [
              0.5555555555555556,
              "#d8576b"
             ],
             [
              0.6666666666666666,
              "#ed7953"
             ],
             [
              0.7777777777777778,
              "#fb9f3a"
             ],
             [
              0.8888888888888888,
              "#fdca26"
             ],
             [
              1.0,
              "#f0f921"
             ]
            ]
           }
          ],
          "contourcarpet": [
           {
            "type": "contourcarpet",
            "colorbar": {
             "outlinewidth": 0,
             "ticks": ""
            }
           }
          ],
          "contour": [
           {
            "type": "contour",
            "colorbar": {
             "outlinewidth": 0,
             "ticks": ""
            },
            "colorscale": [
             [
              0.0,
              "#0d0887"
             ],
             [
              0.1111111111111111,
              "#46039f"
             ],
             [
              0.2222222222222222,
              "#7201a8"
             ],
             [
              0.3333333333333333,
              "#9c179e"
             ],
             [
              0.4444444444444444,
              "#bd3786"
             ],
             [
              0.5555555555555556,
              "#d8576b"
             ],
             [
              0.6666666666666666,
              "#ed7953"
             ],
             [
              0.7777777777777778,
              "#fb9f3a"
             ],
             [
              0.8888888888888888,
              "#fdca26"
             ],
             [
              1.0,
              "#f0f921"
             ]
            ]
           }
          ],
          "surface": [
           {
            "type": "surface",
            "colorbar": {
             "outlinewidth": 0,
             "ticks": ""
            },
            "colorscale": [
             [
              0.0,
              "#0d0887"
             ],
             [
              0.1111111111111111,
              "#46039f"
             ],
             [
              0.2222222222222222,
              "#7201a8"
             ],
             [
              0.3333333333333333,
              "#9c179e"
             ],
             [
              0.4444444444444444,
              "#bd3786"
             ],
             [
              0.5555555555555556,
              "#d8576b"
             ],
             [
              0.6666666666666666,
              "#ed7953"
             ],
             [
              0.7777777777777778,
              "#fb9f3a"
             ],
             [
              0.8888888888888888,
              "#fdca26"
             ],
             [
              1.0,
              "#f0f921"
             ]
            ]
           }
          ],
          "mesh3d": [
           {
            "type": "mesh3d",
            "colorbar": {
             "outlinewidth": 0,
             "ticks": ""
            }
           }
          ],
          "scatter": [
           {
            "fillpattern": {
             "fillmode": "overlay",
             "size": 10,
             "solidity": 0.2
            },
            "type": "scatter"
           }
          ],
          "parcoords": [
           {
            "type": "parcoords",
            "line": {
             "colorbar": {
              "outlinewidth": 0,
              "ticks": ""
             }
            }
           }
          ],
          "scatterpolargl": [
           {
            "type": "scatterpolargl",
            "marker": {
             "colorbar": {
              "outlinewidth": 0,
              "ticks": ""
             }
            }
           }
          ],
          "bar": [
           {
            "error_x": {
             "color": "#2a3f5f"
            },
            "error_y": {
             "color": "#2a3f5f"
            },
            "marker": {
             "line": {
              "color": "#E5ECF6",
              "width": 0.5
             },
             "pattern": {
              "fillmode": "overlay",
              "size": 10,
              "solidity": 0.2
             }
            },
            "type": "bar"
           }
          ],
          "scattergeo": [
           {
            "type": "scattergeo",
            "marker": {
             "colorbar": {
              "outlinewidth": 0,
              "ticks": ""
             }
            }
           }
          ],
          "scatterpolar": [
           {
            "type": "scatterpolar",
            "marker": {
             "colorbar": {
              "outlinewidth": 0,
              "ticks": ""
             }
            }
           }
          ],
          "histogram": [
           {
            "marker": {
             "pattern": {
              "fillmode": "overlay",
              "size": 10,
              "solidity": 0.2
             }
            },
            "type": "histogram"
           }
          ],
          "scattergl": [
           {
            "type": "scattergl",
            "marker": {
             "colorbar": {
              "outlinewidth": 0,
              "ticks": ""
             }
            }
           }
          ],
          "scatter3d": [
           {
            "type": "scatter3d",
            "line": {
             "colorbar": {
              "outlinewidth": 0,
              "ticks": ""
             }
            },
            "marker": {
             "colorbar": {
              "outlinewidth": 0,
              "ticks": ""
             }
            }
           }
          ],
          "scattermapbox": [
           {
            "type": "scattermapbox",
            "marker": {
             "colorbar": {
              "outlinewidth": 0,
              "ticks": ""
             }
            }
           }
          ],
          "scatterternary": [
           {
            "type": "scatterternary",
            "marker": {
             "colorbar": {
              "outlinewidth": 0,
              "ticks": ""
             }
            }
           }
          ],
          "scattercarpet": [
           {
            "type": "scattercarpet",
            "marker": {
             "colorbar": {
              "outlinewidth": 0,
              "ticks": ""
             }
            }
           }
          ],
          "carpet": [
           {
            "aaxis": {
             "endlinecolor": "#2a3f5f",
             "gridcolor": "white",
             "linecolor": "white",
             "minorgridcolor": "white",
             "startlinecolor": "#2a3f5f"
            },
            "baxis": {
             "endlinecolor": "#2a3f5f",
             "gridcolor": "white",
             "linecolor": "white",
             "minorgridcolor": "white",
             "startlinecolor": "#2a3f5f"
            },
            "type": "carpet"
           }
          ],
          "table": [
           {
            "cells": {
             "fill": {
              "color": "#EBF0F8"
             },
             "line": {
              "color": "white"
             }
            },
            "header": {
             "fill": {
              "color": "#C8D4E3"
             },
             "line": {
              "color": "white"
             }
            },
            "type": "table"
           }
          ],
          "barpolar": [
           {
            "marker": {
             "line": {
              "color": "#E5ECF6",
              "width": 0.5
             },
             "pattern": {
              "fillmode": "overlay",
              "size": 10,
              "solidity": 0.2
             }
            },
            "type": "barpolar"
           }
          ],
          "pie": [
           {
            "automargin": true,
            "type": "pie"
           }
          ]
         },
         "layout": {
          "autotypenumbers": "strict",
          "colorway": [
           "#636efa",
           "#EF553B",
           "#00cc96",
           "#ab63fa",
           "#FFA15A",
           "#19d3f3",
           "#FF6692",
           "#B6E880",
           "#FF97FF",
           "#FECB52"
          ],
          "font": {
           "color": "#2a3f5f"
          },
          "hovermode": "closest",
          "hoverlabel": {
           "align": "left"
          },
          "paper_bgcolor": "white",
          "plot_bgcolor": "#E5ECF6",
          "polar": {
           "bgcolor": "#E5ECF6",
           "angularaxis": {
            "gridcolor": "white",
            "linecolor": "white",
            "ticks": ""
           },
           "radialaxis": {
            "gridcolor": "white",
            "linecolor": "white",
            "ticks": ""
           }
          },
          "ternary": {
           "bgcolor": "#E5ECF6",
           "aaxis": {
            "gridcolor": "white",
            "linecolor": "white",
            "ticks": ""
           },
           "baxis": {
            "gridcolor": "white",
            "linecolor": "white",
            "ticks": ""
           },
           "caxis": {
            "gridcolor": "white",
            "linecolor": "white",
            "ticks": ""
           }
          },
          "coloraxis": {
           "colorbar": {
            "outlinewidth": 0,
            "ticks": ""
           }
          },
          "colorscale": {
           "sequential": [
            [
             0.0,
             "#0d0887"
            ],
            [
             0.1111111111111111,
             "#46039f"
            ],
            [
             0.2222222222222222,
             "#7201a8"
            ],
            [
             0.3333333333333333,
             "#9c179e"
            ],
            [
             0.4444444444444444,
             "#bd3786"
            ],
            [
             0.5555555555555556,
             "#d8576b"
            ],
            [
             0.6666666666666666,
             "#ed7953"
            ],
            [
             0.7777777777777778,
             "#fb9f3a"
            ],
            [
             0.8888888888888888,
             "#fdca26"
            ],
            [
             1.0,
             "#f0f921"
            ]
           ],
           "sequentialminus": [
            [
             0.0,
             "#0d0887"
            ],
            [
             0.1111111111111111,
             "#46039f"
            ],
            [
             0.2222222222222222,
             "#7201a8"
            ],
            [
             0.3333333333333333,
             "#9c179e"
            ],
            [
             0.4444444444444444,
             "#bd3786"
            ],
            [
             0.5555555555555556,
             "#d8576b"
            ],
            [
             0.6666666666666666,
             "#ed7953"
            ],
            [
             0.7777777777777778,
             "#fb9f3a"
            ],
            [
             0.8888888888888888,
             "#fdca26"
            ],
            [
             1.0,
             "#f0f921"
            ]
           ],
           "diverging": [
            [
             0,
             "#8e0152"
            ],
            [
             0.1,
             "#c51b7d"
            ],
            [
             0.2,
             "#de77ae"
            ],
            [
             0.3,
             "#f1b6da"
            ],
            [
             0.4,
             "#fde0ef"
            ],
            [
             0.5,
             "#f7f7f7"
            ],
            [
             0.6,
             "#e6f5d0"
            ],
            [
             0.7,
             "#b8e186"
            ],
            [
             0.8,
             "#7fbc41"
            ],
            [
             0.9,
             "#4d9221"
            ],
            [
             1,
             "#276419"
            ]
           ]
          },
          "xaxis": {
           "gridcolor": "white",
           "linecolor": "white",
           "ticks": "",
           "title": {
            "standoff": 15
           },
           "zerolinecolor": "white",
           "automargin": true,
           "zerolinewidth": 2
          },
          "yaxis": {
           "gridcolor": "white",
           "linecolor": "white",
           "ticks": "",
           "title": {
            "standoff": 15
           },
           "zerolinecolor": "white",
           "automargin": true,
           "zerolinewidth": 2
          },
          "scene": {
           "xaxis": {
            "backgroundcolor": "#E5ECF6",
            "gridcolor": "white",
            "linecolor": "white",
            "showbackground": true,
            "ticks": "",
            "zerolinecolor": "white",
            "gridwidth": 2
           },
           "yaxis": {
            "backgroundcolor": "#E5ECF6",
            "gridcolor": "white",
            "linecolor": "white",
            "showbackground": true,
            "ticks": "",
            "zerolinecolor": "white",
            "gridwidth": 2
           },
           "zaxis": {
            "backgroundcolor": "#E5ECF6",
            "gridcolor": "white",
            "linecolor": "white",
            "showbackground": true,
            "ticks": "",
            "zerolinecolor": "white",
            "gridwidth": 2
           }
          },
          "shapedefaults": {
           "line": {
            "color": "#2a3f5f"
           }
          },
          "annotationdefaults": {
           "arrowcolor": "#2a3f5f",
           "arrowhead": 0,
           "arrowwidth": 1
          },
          "geo": {
           "bgcolor": "white",
           "landcolor": "#E5ECF6",
           "subunitcolor": "white",
           "showland": true,
           "showlakes": true,
           "lakecolor": "white"
          },
          "title": {
           "x": 0.05
          },
          "mapbox": {
           "style": "light"
          }
         }
        },
        "xaxis": {
         "anchor": "y",
         "domain": [
          0.0,
          1.0
         ],
         "scaleanchor": "y",
         "constrain": "domain"
        },
        "yaxis": {
         "anchor": "x",
         "domain": [
          0.0,
          1.0
         ],
         "autorange": "reversed",
         "constrain": "domain"
        },
        "coloraxis": {
         "colorscale": [
          [
           0.0,
           "rgb(247,252,253)"
          ],
          [
           0.125,
           "rgb(224,236,244)"
          ],
          [
           0.25,
           "rgb(191,211,230)"
          ],
          [
           0.375,
           "rgb(158,188,218)"
          ],
          [
           0.5,
           "rgb(140,150,198)"
          ],
          [
           0.625,
           "rgb(140,107,177)"
          ],
          [
           0.75,
           "rgb(136,65,157)"
          ],
          [
           0.875,
           "rgb(129,15,124)"
          ],
          [
           1.0,
           "rgb(77,0,75)"
          ]
         ]
        },
        "margin": {
         "t": 60
        },
        "title": {
         "text": "CORRELATION MATRIX"
        },
        "height": 600,
        "width": 600
       },
       "config": {
        "plotlyServerURL": "https://plot.ly"
       }
      },
      "text/html": "<div>                            <div id=\"cb977edb-eba9-4df9-a79f-c522c0b60164\" class=\"plotly-graph-div\" style=\"height:600px; width:600px;\"></div>            <script type=\"text/javascript\">                require([\"plotly\"], function(Plotly) {                    window.PLOTLYENV=window.PLOTLYENV || {};                                    if (document.getElementById(\"cb977edb-eba9-4df9-a79f-c522c0b60164\")) {                    Plotly.newPlot(                        \"cb977edb-eba9-4df9-a79f-c522c0b60164\",                        [{\"coloraxis\":\"coloraxis\",\"name\":\"0\",\"x\":[\"iat\",\"y_birth\",\"prefer_straight\",\"edu\",\"liberal\",\"religious\"],\"y\":[\"iat\",\"y_birth\",\"prefer_straight\",\"edu\",\"liberal\",\"religious\"],\"z\":[[0.0,0.0,0.0,0.0,0.0,0.0],[0.14184969837625216,0.0,0.0,0.0,0.0,0.0],[0.4611631686108151,0.09325540169658925,0.0,0.0,0.0,0.0],[0.045729669681391485,0.6080589278771281,0.03513422333290793,0.0,0.0,0.0],[0.37953293125537024,0.014237341929181035,0.46350816137816697,0.0772042873235909,0.0,0.0],[0.22842086063849207,0.07035362638348792,0.2923751849511337,0.017353237756310983,0.37580638928503224,0.0]],\"type\":\"heatmap\",\"xaxis\":\"x\",\"yaxis\":\"y\",\"hovertemplate\":\"x: %{x}<br>y: %{y}<br>color: %{z}<extra></extra>\"}],                        {\"template\":{\"data\":{\"histogram2dcontour\":[{\"type\":\"histogram2dcontour\",\"colorbar\":{\"outlinewidth\":0,\"ticks\":\"\"},\"colorscale\":[[0.0,\"#0d0887\"],[0.1111111111111111,\"#46039f\"],[0.2222222222222222,\"#7201a8\"],[0.3333333333333333,\"#9c179e\"],[0.4444444444444444,\"#bd3786\"],[0.5555555555555556,\"#d8576b\"],[0.6666666666666666,\"#ed7953\"],[0.7777777777777778,\"#fb9f3a\"],[0.8888888888888888,\"#fdca26\"],[1.0,\"#f0f921\"]]}],\"choropleth\":[{\"type\":\"choropleth\",\"colorbar\":{\"outlinewidth\":0,\"ticks\":\"\"}}],\"histogram2d\":[{\"type\":\"histogram2d\",\"colorbar\":{\"outlinewidth\":0,\"ticks\":\"\"},\"colorscale\":[[0.0,\"#0d0887\"],[0.1111111111111111,\"#46039f\"],[0.2222222222222222,\"#7201a8\"],[0.3333333333333333,\"#9c179e\"],[0.4444444444444444,\"#bd3786\"],[0.5555555555555556,\"#d8576b\"],[0.6666666666666666,\"#ed7953\"],[0.7777777777777778,\"#fb9f3a\"],[0.8888888888888888,\"#fdca26\"],[1.0,\"#f0f921\"]]}],\"heatmap\":[{\"type\":\"heatmap\",\"colorbar\":{\"outlinewidth\":0,\"ticks\":\"\"},\"colorscale\":[[0.0,\"#0d0887\"],[0.1111111111111111,\"#46039f\"],[0.2222222222222222,\"#7201a8\"],[0.3333333333333333,\"#9c179e\"],[0.4444444444444444,\"#bd3786\"],[0.5555555555555556,\"#d8576b\"],[0.6666666666666666,\"#ed7953\"],[0.7777777777777778,\"#fb9f3a\"],[0.8888888888888888,\"#fdca26\"],[1.0,\"#f0f921\"]]}],\"heatmapgl\":[{\"type\":\"heatmapgl\",\"colorbar\":{\"outlinewidth\":0,\"ticks\":\"\"},\"colorscale\":[[0.0,\"#0d0887\"],[0.1111111111111111,\"#46039f\"],[0.2222222222222222,\"#7201a8\"],[0.3333333333333333,\"#9c179e\"],[0.4444444444444444,\"#bd3786\"],[0.5555555555555556,\"#d8576b\"],[0.6666666666666666,\"#ed7953\"],[0.7777777777777778,\"#fb9f3a\"],[0.8888888888888888,\"#fdca26\"],[1.0,\"#f0f921\"]]}],\"contourcarpet\":[{\"type\":\"contourcarpet\",\"colorbar\":{\"outlinewidth\":0,\"ticks\":\"\"}}],\"contour\":[{\"type\":\"contour\",\"colorbar\":{\"outlinewidth\":0,\"ticks\":\"\"},\"colorscale\":[[0.0,\"#0d0887\"],[0.1111111111111111,\"#46039f\"],[0.2222222222222222,\"#7201a8\"],[0.3333333333333333,\"#9c179e\"],[0.4444444444444444,\"#bd3786\"],[0.5555555555555556,\"#d8576b\"],[0.6666666666666666,\"#ed7953\"],[0.7777777777777778,\"#fb9f3a\"],[0.8888888888888888,\"#fdca26\"],[1.0,\"#f0f921\"]]}],\"surface\":[{\"type\":\"surface\",\"colorbar\":{\"outlinewidth\":0,\"ticks\":\"\"},\"colorscale\":[[0.0,\"#0d0887\"],[0.1111111111111111,\"#46039f\"],[0.2222222222222222,\"#7201a8\"],[0.3333333333333333,\"#9c179e\"],[0.4444444444444444,\"#bd3786\"],[0.5555555555555556,\"#d8576b\"],[0.6666666666666666,\"#ed7953\"],[0.7777777777777778,\"#fb9f3a\"],[0.8888888888888888,\"#fdca26\"],[1.0,\"#f0f921\"]]}],\"mesh3d\":[{\"type\":\"mesh3d\",\"colorbar\":{\"outlinewidth\":0,\"ticks\":\"\"}}],\"scatter\":[{\"fillpattern\":{\"fillmode\":\"overlay\",\"size\":10,\"solidity\":0.2},\"type\":\"scatter\"}],\"parcoords\":[{\"type\":\"parcoords\",\"line\":{\"colorbar\":{\"outlinewidth\":0,\"ticks\":\"\"}}}],\"scatterpolargl\":[{\"type\":\"scatterpolargl\",\"marker\":{\"colorbar\":{\"outlinewidth\":0,\"ticks\":\"\"}}}],\"bar\":[{\"error_x\":{\"color\":\"#2a3f5f\"},\"error_y\":{\"color\":\"#2a3f5f\"},\"marker\":{\"line\":{\"color\":\"#E5ECF6\",\"width\":0.5},\"pattern\":{\"fillmode\":\"overlay\",\"size\":10,\"solidity\":0.2}},\"type\":\"bar\"}],\"scattergeo\":[{\"type\":\"scattergeo\",\"marker\":{\"colorbar\":{\"outlinewidth\":0,\"ticks\":\"\"}}}],\"scatterpolar\":[{\"type\":\"scatterpolar\",\"marker\":{\"colorbar\":{\"outlinewidth\":0,\"ticks\":\"\"}}}],\"histogram\":[{\"marker\":{\"pattern\":{\"fillmode\":\"overlay\",\"size\":10,\"solidity\":0.2}},\"type\":\"histogram\"}],\"scattergl\":[{\"type\":\"scattergl\",\"marker\":{\"colorbar\":{\"outlinewidth\":0,\"ticks\":\"\"}}}],\"scatter3d\":[{\"type\":\"scatter3d\",\"line\":{\"colorbar\":{\"outlinewidth\":0,\"ticks\":\"\"}},\"marker\":{\"colorbar\":{\"outlinewidth\":0,\"ticks\":\"\"}}}],\"scattermapbox\":[{\"type\":\"scattermapbox\",\"marker\":{\"colorbar\":{\"outlinewidth\":0,\"ticks\":\"\"}}}],\"scatterternary\":[{\"type\":\"scatterternary\",\"marker\":{\"colorbar\":{\"outlinewidth\":0,\"ticks\":\"\"}}}],\"scattercarpet\":[{\"type\":\"scattercarpet\",\"marker\":{\"colorbar\":{\"outlinewidth\":0,\"ticks\":\"\"}}}],\"carpet\":[{\"aaxis\":{\"endlinecolor\":\"#2a3f5f\",\"gridcolor\":\"white\",\"linecolor\":\"white\",\"minorgridcolor\":\"white\",\"startlinecolor\":\"#2a3f5f\"},\"baxis\":{\"endlinecolor\":\"#2a3f5f\",\"gridcolor\":\"white\",\"linecolor\":\"white\",\"minorgridcolor\":\"white\",\"startlinecolor\":\"#2a3f5f\"},\"type\":\"carpet\"}],\"table\":[{\"cells\":{\"fill\":{\"color\":\"#EBF0F8\"},\"line\":{\"color\":\"white\"}},\"header\":{\"fill\":{\"color\":\"#C8D4E3\"},\"line\":{\"color\":\"white\"}},\"type\":\"table\"}],\"barpolar\":[{\"marker\":{\"line\":{\"color\":\"#E5ECF6\",\"width\":0.5},\"pattern\":{\"fillmode\":\"overlay\",\"size\":10,\"solidity\":0.2}},\"type\":\"barpolar\"}],\"pie\":[{\"automargin\":true,\"type\":\"pie\"}]},\"layout\":{\"autotypenumbers\":\"strict\",\"colorway\":[\"#636efa\",\"#EF553B\",\"#00cc96\",\"#ab63fa\",\"#FFA15A\",\"#19d3f3\",\"#FF6692\",\"#B6E880\",\"#FF97FF\",\"#FECB52\"],\"font\":{\"color\":\"#2a3f5f\"},\"hovermode\":\"closest\",\"hoverlabel\":{\"align\":\"left\"},\"paper_bgcolor\":\"white\",\"plot_bgcolor\":\"#E5ECF6\",\"polar\":{\"bgcolor\":\"#E5ECF6\",\"angularaxis\":{\"gridcolor\":\"white\",\"linecolor\":\"white\",\"ticks\":\"\"},\"radialaxis\":{\"gridcolor\":\"white\",\"linecolor\":\"white\",\"ticks\":\"\"}},\"ternary\":{\"bgcolor\":\"#E5ECF6\",\"aaxis\":{\"gridcolor\":\"white\",\"linecolor\":\"white\",\"ticks\":\"\"},\"baxis\":{\"gridcolor\":\"white\",\"linecolor\":\"white\",\"ticks\":\"\"},\"caxis\":{\"gridcolor\":\"white\",\"linecolor\":\"white\",\"ticks\":\"\"}},\"coloraxis\":{\"colorbar\":{\"outlinewidth\":0,\"ticks\":\"\"}},\"colorscale\":{\"sequential\":[[0.0,\"#0d0887\"],[0.1111111111111111,\"#46039f\"],[0.2222222222222222,\"#7201a8\"],[0.3333333333333333,\"#9c179e\"],[0.4444444444444444,\"#bd3786\"],[0.5555555555555556,\"#d8576b\"],[0.6666666666666666,\"#ed7953\"],[0.7777777777777778,\"#fb9f3a\"],[0.8888888888888888,\"#fdca26\"],[1.0,\"#f0f921\"]],\"sequentialminus\":[[0.0,\"#0d0887\"],[0.1111111111111111,\"#46039f\"],[0.2222222222222222,\"#7201a8\"],[0.3333333333333333,\"#9c179e\"],[0.4444444444444444,\"#bd3786\"],[0.5555555555555556,\"#d8576b\"],[0.6666666666666666,\"#ed7953\"],[0.7777777777777778,\"#fb9f3a\"],[0.8888888888888888,\"#fdca26\"],[1.0,\"#f0f921\"]],\"diverging\":[[0,\"#8e0152\"],[0.1,\"#c51b7d\"],[0.2,\"#de77ae\"],[0.3,\"#f1b6da\"],[0.4,\"#fde0ef\"],[0.5,\"#f7f7f7\"],[0.6,\"#e6f5d0\"],[0.7,\"#b8e186\"],[0.8,\"#7fbc41\"],[0.9,\"#4d9221\"],[1,\"#276419\"]]},\"xaxis\":{\"gridcolor\":\"white\",\"linecolor\":\"white\",\"ticks\":\"\",\"title\":{\"standoff\":15},\"zerolinecolor\":\"white\",\"automargin\":true,\"zerolinewidth\":2},\"yaxis\":{\"gridcolor\":\"white\",\"linecolor\":\"white\",\"ticks\":\"\",\"title\":{\"standoff\":15},\"zerolinecolor\":\"white\",\"automargin\":true,\"zerolinewidth\":2},\"scene\":{\"xaxis\":{\"backgroundcolor\":\"#E5ECF6\",\"gridcolor\":\"white\",\"linecolor\":\"white\",\"showbackground\":true,\"ticks\":\"\",\"zerolinecolor\":\"white\",\"gridwidth\":2},\"yaxis\":{\"backgroundcolor\":\"#E5ECF6\",\"gridcolor\":\"white\",\"linecolor\":\"white\",\"showbackground\":true,\"ticks\":\"\",\"zerolinecolor\":\"white\",\"gridwidth\":2},\"zaxis\":{\"backgroundcolor\":\"#E5ECF6\",\"gridcolor\":\"white\",\"linecolor\":\"white\",\"showbackground\":true,\"ticks\":\"\",\"zerolinecolor\":\"white\",\"gridwidth\":2}},\"shapedefaults\":{\"line\":{\"color\":\"#2a3f5f\"}},\"annotationdefaults\":{\"arrowcolor\":\"#2a3f5f\",\"arrowhead\":0,\"arrowwidth\":1},\"geo\":{\"bgcolor\":\"white\",\"landcolor\":\"#E5ECF6\",\"subunitcolor\":\"white\",\"showland\":true,\"showlakes\":true,\"lakecolor\":\"white\"},\"title\":{\"x\":0.05},\"mapbox\":{\"style\":\"light\"}}},\"xaxis\":{\"anchor\":\"y\",\"domain\":[0.0,1.0],\"scaleanchor\":\"y\",\"constrain\":\"domain\"},\"yaxis\":{\"anchor\":\"x\",\"domain\":[0.0,1.0],\"autorange\":\"reversed\",\"constrain\":\"domain\"},\"coloraxis\":{\"colorscale\":[[0.0,\"rgb(247,252,253)\"],[0.125,\"rgb(224,236,244)\"],[0.25,\"rgb(191,211,230)\"],[0.375,\"rgb(158,188,218)\"],[0.5,\"rgb(140,150,198)\"],[0.625,\"rgb(140,107,177)\"],[0.75,\"rgb(136,65,157)\"],[0.875,\"rgb(129,15,124)\"],[1.0,\"rgb(77,0,75)\"]]},\"margin\":{\"t\":60},\"title\":{\"text\":\"CORRELATION MATRIX\"},\"height\":600,\"width\":600},                        {\"responsive\": true}                    ).then(function(){\n                            \nvar gd = document.getElementById('cb977edb-eba9-4df9-a79f-c522c0b60164');\nvar x = new MutationObserver(function (mutations, observer) {{\n        var display = window.getComputedStyle(gd).display;\n        if (!display || display === 'none') {{\n            console.log([gd, 'removed!']);\n            Plotly.purge(gd);\n            observer.disconnect();\n        }}\n}});\n\n// Listen for the removal of the full notebook cells\nvar notebookContainer = gd.closest('#notebook-container');\nif (notebookContainer) {{\n    x.observe(notebookContainer, {childList: true});\n}}\n\n// Listen for the clearing of the current output cell\nvar outputEl = gd.closest('.output');\nif (outputEl) {{\n    x.observe(outputEl, {childList: true});\n}}\n\n                        })                };                });            </script>        </div>"
     },
     "metadata": {},
     "output_type": "display_data"
    }
   ],
   "source": [
    "## correlation matrix\n",
    "corr_matrix = abs(num.corr())\n",
    "\n",
    "for i in range(0, len(num.columns)):\n",
    "    corr_matrix.iloc[i, i:] = 0\n",
    "\n",
    "fig = px.imshow(corr_matrix, text_auto=False, color_continuous_scale='BuPu')\n",
    "fig.update_layout(height=600, width=600, title_text=\"CORRELATION MATRIX\")\n",
    "fig.show()"
   ],
   "metadata": {
    "collapsed": false,
    "pycharm": {
     "name": "#%%\n"
    }
   }
  },
  {
   "cell_type": "markdown",
   "source": [
    "## DATA EXPLORATION WITH OLS REGRESSION\n"
   ],
   "metadata": {
    "collapsed": false,
    "pycharm": {
     "name": "#%% md\n"
    }
   }
  },
  {
   "cell_type": "code",
   "execution_count": 237,
   "outputs": [],
   "source": [
    "## define functions\n",
    "def LinearRegression(y,x):\n",
    "    x = sm.add_constant(x)\n",
    "    ols = sm.OLS(y, x).fit()\n",
    "    ols_table = ols.summary()\n",
    "    return ols_table\n",
    "\n",
    "def TableResults(ols_table):\n",
    "    ## format the ols table\n",
    "    table = pd.DataFrame(ols_table.tables[1])\n",
    "    list_col = ['ind_var', 'coef', 'std_err', 't_val', 'p_val', 'low_ci', 'high_ci']\n",
    "    for num in range(0,len(table.columns)):\n",
    "        table.rename(columns={table.columns[num]: f\"{list_col[num]}\" }, inplace = True)\n",
    "    table = table.iloc[1:,:]\n",
    "    #ols = sm.OLS(y, x).fit()\n",
    "    #table['obs'] = ols.nobs\n",
    "    table.rename(columns={\"P>|t|\": \"p_val\", \"[0.025\": \"low_ci\", \"0.975]\": \"high_ci\"}, inplace=True)\n",
    "    table = table.set_index(table.columns[0])\n",
    "    table = round(table, 3)\n",
    "    table_results = table.applymap(str).applymap(float)\n",
    "    return table_results"
   ],
   "metadata": {
    "collapsed": false,
    "pycharm": {
     "name": "#%%\n"
    }
   }
  },
  {
   "cell_type": "code",
   "execution_count": 238,
   "outputs": [
    {
     "data": {
      "text/plain": "                                       coef  std_err   t_val  p_val  low_ci  \\\nind_var                                                                       \nconst                                0.1851    0.430   0.430  0.667  -0.658   \ny_birth                             -0.1169    0.005 -22.199  0.000  -0.127   \nprefer_straight                      0.3460    0.005  71.921  0.000   0.337   \nedu                                 -0.0237    0.005  -4.453  0.000  -0.034   \nliberal                             -0.1985    0.005 -40.037  0.000  -0.208   \nreligious                            0.0446    0.005   9.728  0.000   0.036   \ntest                                -0.0113    0.008  -1.346  0.178  -0.028   \nbirthsex_Male                       -0.0019    0.009  -0.205  0.838  -0.020   \ngn_id_non_binary                     0.0120    0.025   0.473  0.636  -0.038   \nstraight_Yes                         0.0081    0.010   0.825  0.409  -0.011   \nstraight_Queer                      -0.0281    0.022  -1.253  0.210  -0.072   \nrace_East Asian                      0.0016    0.027   0.057  0.954  -0.052   \nrace_Multiracial                     0.0212    0.024   0.893  0.372  -0.025   \nrace_Other or unknown                0.0244    0.022   1.119  0.263  -0.018   \nrace_South Asian                    -0.0333    0.029  -1.133  0.257  -0.091   \nrace_White                           0.0015    0.016   0.092  0.927  -0.030   \nstraight_first_Straight right first  0.0117    0.008   1.400  0.162  -0.005   \nfam. member_yes                      0.0026    0.009   0.301  0.764  -0.014   \nfriend_yes                           0.0155    0.015   1.063  0.288  -0.013   \nfriendly_yes                        -0.0079    0.014  -0.547  0.585  -0.036   \nmet gay_yes                         -0.2111    0.430  -0.491  0.623  -1.053   \nadoption_Against                    -0.0335    0.024  -1.403  0.160  -0.080   \nmarriage_Against                     0.0185    0.025   0.747  0.455  -0.030   \nrelation_Against                    -0.0325    0.024  -1.331  0.183  -0.080   \nwork_Against                         0.0020    0.012   0.163  0.870  -0.022   \ntransgender_Pro                      0.0092    0.012   0.765  0.444  -0.014   \n\n                                     high_ci  \nind_var                                       \nconst                                  1.028  \ny_birth                               -0.107  \nprefer_straight                        0.355  \nedu                                   -0.013  \nliberal                               -0.189  \nreligious                              0.054  \ntest                                   0.005  \nbirthsex_Male                          0.016  \ngn_id_non_binary                       0.062  \nstraight_Yes                           0.027  \nstraight_Queer                         0.016  \nrace_East Asian                        0.055  \nrace_Multiracial                       0.068  \nrace_Other or unknown                  0.067  \nrace_South Asian                       0.024  \nrace_White                             0.033  \nstraight_first_Straight right first    0.028  \nfam. member_yes                        0.020  \nfriend_yes                             0.044  \nfriendly_yes                           0.020  \nmet gay_yes                            0.631  \nadoption_Against                       0.013  \nmarriage_Against                       0.067  \nrelation_Against                       0.015  \nwork_Against                           0.026  \ntransgender_Pro                        0.033  ",
      "text/html": "<div>\n<style scoped>\n    .dataframe tbody tr th:only-of-type {\n        vertical-align: middle;\n    }\n\n    .dataframe tbody tr th {\n        vertical-align: top;\n    }\n\n    .dataframe thead th {\n        text-align: right;\n    }\n</style>\n<table border=\"1\" class=\"dataframe\">\n  <thead>\n    <tr style=\"text-align: right;\">\n      <th></th>\n      <th>coef</th>\n      <th>std_err</th>\n      <th>t_val</th>\n      <th>p_val</th>\n      <th>low_ci</th>\n      <th>high_ci</th>\n    </tr>\n    <tr>\n      <th>ind_var</th>\n      <th></th>\n      <th></th>\n      <th></th>\n      <th></th>\n      <th></th>\n      <th></th>\n    </tr>\n  </thead>\n  <tbody>\n    <tr>\n      <th>const</th>\n      <td>0.1851</td>\n      <td>0.430</td>\n      <td>0.430</td>\n      <td>0.667</td>\n      <td>-0.658</td>\n      <td>1.028</td>\n    </tr>\n    <tr>\n      <th>y_birth</th>\n      <td>-0.1169</td>\n      <td>0.005</td>\n      <td>-22.199</td>\n      <td>0.000</td>\n      <td>-0.127</td>\n      <td>-0.107</td>\n    </tr>\n    <tr>\n      <th>prefer_straight</th>\n      <td>0.3460</td>\n      <td>0.005</td>\n      <td>71.921</td>\n      <td>0.000</td>\n      <td>0.337</td>\n      <td>0.355</td>\n    </tr>\n    <tr>\n      <th>edu</th>\n      <td>-0.0237</td>\n      <td>0.005</td>\n      <td>-4.453</td>\n      <td>0.000</td>\n      <td>-0.034</td>\n      <td>-0.013</td>\n    </tr>\n    <tr>\n      <th>liberal</th>\n      <td>-0.1985</td>\n      <td>0.005</td>\n      <td>-40.037</td>\n      <td>0.000</td>\n      <td>-0.208</td>\n      <td>-0.189</td>\n    </tr>\n    <tr>\n      <th>religious</th>\n      <td>0.0446</td>\n      <td>0.005</td>\n      <td>9.728</td>\n      <td>0.000</td>\n      <td>0.036</td>\n      <td>0.054</td>\n    </tr>\n    <tr>\n      <th>test</th>\n      <td>-0.0113</td>\n      <td>0.008</td>\n      <td>-1.346</td>\n      <td>0.178</td>\n      <td>-0.028</td>\n      <td>0.005</td>\n    </tr>\n    <tr>\n      <th>birthsex_Male</th>\n      <td>-0.0019</td>\n      <td>0.009</td>\n      <td>-0.205</td>\n      <td>0.838</td>\n      <td>-0.020</td>\n      <td>0.016</td>\n    </tr>\n    <tr>\n      <th>gn_id_non_binary</th>\n      <td>0.0120</td>\n      <td>0.025</td>\n      <td>0.473</td>\n      <td>0.636</td>\n      <td>-0.038</td>\n      <td>0.062</td>\n    </tr>\n    <tr>\n      <th>straight_Yes</th>\n      <td>0.0081</td>\n      <td>0.010</td>\n      <td>0.825</td>\n      <td>0.409</td>\n      <td>-0.011</td>\n      <td>0.027</td>\n    </tr>\n    <tr>\n      <th>straight_Queer</th>\n      <td>-0.0281</td>\n      <td>0.022</td>\n      <td>-1.253</td>\n      <td>0.210</td>\n      <td>-0.072</td>\n      <td>0.016</td>\n    </tr>\n    <tr>\n      <th>race_East Asian</th>\n      <td>0.0016</td>\n      <td>0.027</td>\n      <td>0.057</td>\n      <td>0.954</td>\n      <td>-0.052</td>\n      <td>0.055</td>\n    </tr>\n    <tr>\n      <th>race_Multiracial</th>\n      <td>0.0212</td>\n      <td>0.024</td>\n      <td>0.893</td>\n      <td>0.372</td>\n      <td>-0.025</td>\n      <td>0.068</td>\n    </tr>\n    <tr>\n      <th>race_Other or unknown</th>\n      <td>0.0244</td>\n      <td>0.022</td>\n      <td>1.119</td>\n      <td>0.263</td>\n      <td>-0.018</td>\n      <td>0.067</td>\n    </tr>\n    <tr>\n      <th>race_South Asian</th>\n      <td>-0.0333</td>\n      <td>0.029</td>\n      <td>-1.133</td>\n      <td>0.257</td>\n      <td>-0.091</td>\n      <td>0.024</td>\n    </tr>\n    <tr>\n      <th>race_White</th>\n      <td>0.0015</td>\n      <td>0.016</td>\n      <td>0.092</td>\n      <td>0.927</td>\n      <td>-0.030</td>\n      <td>0.033</td>\n    </tr>\n    <tr>\n      <th>straight_first_Straight right first</th>\n      <td>0.0117</td>\n      <td>0.008</td>\n      <td>1.400</td>\n      <td>0.162</td>\n      <td>-0.005</td>\n      <td>0.028</td>\n    </tr>\n    <tr>\n      <th>fam. member_yes</th>\n      <td>0.0026</td>\n      <td>0.009</td>\n      <td>0.301</td>\n      <td>0.764</td>\n      <td>-0.014</td>\n      <td>0.020</td>\n    </tr>\n    <tr>\n      <th>friend_yes</th>\n      <td>0.0155</td>\n      <td>0.015</td>\n      <td>1.063</td>\n      <td>0.288</td>\n      <td>-0.013</td>\n      <td>0.044</td>\n    </tr>\n    <tr>\n      <th>friendly_yes</th>\n      <td>-0.0079</td>\n      <td>0.014</td>\n      <td>-0.547</td>\n      <td>0.585</td>\n      <td>-0.036</td>\n      <td>0.020</td>\n    </tr>\n    <tr>\n      <th>met gay_yes</th>\n      <td>-0.2111</td>\n      <td>0.430</td>\n      <td>-0.491</td>\n      <td>0.623</td>\n      <td>-1.053</td>\n      <td>0.631</td>\n    </tr>\n    <tr>\n      <th>adoption_Against</th>\n      <td>-0.0335</td>\n      <td>0.024</td>\n      <td>-1.403</td>\n      <td>0.160</td>\n      <td>-0.080</td>\n      <td>0.013</td>\n    </tr>\n    <tr>\n      <th>marriage_Against</th>\n      <td>0.0185</td>\n      <td>0.025</td>\n      <td>0.747</td>\n      <td>0.455</td>\n      <td>-0.030</td>\n      <td>0.067</td>\n    </tr>\n    <tr>\n      <th>relation_Against</th>\n      <td>-0.0325</td>\n      <td>0.024</td>\n      <td>-1.331</td>\n      <td>0.183</td>\n      <td>-0.080</td>\n      <td>0.015</td>\n    </tr>\n    <tr>\n      <th>work_Against</th>\n      <td>0.0020</td>\n      <td>0.012</td>\n      <td>0.163</td>\n      <td>0.870</td>\n      <td>-0.022</td>\n      <td>0.026</td>\n    </tr>\n    <tr>\n      <th>transgender_Pro</th>\n      <td>0.0092</td>\n      <td>0.012</td>\n      <td>0.765</td>\n      <td>0.444</td>\n      <td>-0.014</td>\n      <td>0.033</td>\n    </tr>\n  </tbody>\n</table>\n</div>"
     },
     "execution_count": 238,
     "metadata": {},
     "output_type": "execute_result"
    }
   ],
   "source": [
    "## apply ols regression\n",
    "y = df['iat']\n",
    "x = df.drop(['iat'], axis = 1)\n",
    "ols = sm.OLS(y, x).fit()\n",
    "ols_table = LinearRegression(y, x)\n",
    "table_results = TableResults(ols_table)\n",
    "table_results"
   ],
   "metadata": {
    "collapsed": false,
    "pycharm": {
     "name": "#%%\n"
    }
   }
  },
  {
   "cell_type": "code",
   "execution_count": 239,
   "outputs": [],
   "source": [
    "## FEATURE SELECTION Select p values < .2\n",
    "table_results_sub = table_results.loc[table_results['p_val'] < .2 ,:]\n",
    "table_results_sub.reset_index(inplace=True)\n",
    "list_vars = table_results_sub['ind_var']\n",
    "\n",
    "list_vars = []\n",
    "for i in range(len(table_results_sub.index)):\n",
    "    list_vars.append(str(table_results_sub.iloc[i,0]))\n",
    "\n",
    "#df = df[list_vars]"
   ],
   "metadata": {
    "collapsed": false,
    "pycharm": {
     "name": "#%%\n"
    }
   }
  },
  {
   "cell_type": "code",
   "execution_count": 251,
   "outputs": [],
   "source": [
    "import matplotlib.pyplot as plt\n",
    "\n",
    "def PlotOls(table):\n",
    "    ## prepare the data\n",
    "    n_coeff = len(table.index)\n",
    "    table = table.iloc[0:n_coeff, :]\n",
    "    lower = table['low_ci']\n",
    "    upper = table['high_ci']\n",
    "    table['variables'] = table.index.values\n",
    "    n = len(table)\n",
    "    l = range(0, n)\n",
    "    labels = [0] * n\n",
    "    names = table['variables']\n",
    "    ##plot\n",
    "    fig, ax = plt.subplots(figsize=(8, 5))\n",
    "    plt.plot((lower,upper), (l, l), 'ro-', color='blue', linewidth=2, markersize=2)\n",
    "    plt.scatter(x=table.coef, y=range(0,len(table)))\n",
    "    ax.tick_params(axis='both', which='both')\n",
    "    plt.yticks(range(0, n), names)\n",
    "    plt.plot(labels, l, '--', color='red', linewidth=2, markersize=2)\n",
    "    ax.set_ylabel('Coefficients', fontsize=10)\n",
    "    plt.scatter(lower-.002, l, marker='|', color='blue')\n",
    "    plt.scatter(upper+.002, l, marker='|', color='blue')\n",
    "    ax.set_facecolor('white')\n",
    "    plt.title('CORRELATION WITH IMPLICIT SEXUAL DISCRIMINATION \\nOLS coefficients - 95% Confidence Intervals', fontsize=15)\n",
    "    plt.savefig(\"C:/Users/tomma/Documents/data_science/berlin/TommasoLaboratories/MidTermProject/results/coefplot.jpeg\",\n",
    "                bbox_inches='tight')"
   ],
   "metadata": {
    "collapsed": false,
    "pycharm": {
     "name": "#%%\n"
    }
   }
  },
  {
   "cell_type": "code",
   "execution_count": 243,
   "outputs": [
    {
     "data": {
      "text/plain": "                                 coef  std_err   t_val  p_val  low_ci  high_ci\nConstant                       0.1851    0.430   0.430  0.667  -0.658    1.028\nYear of birth                 -0.1169    0.005 -22.199  0.000  -0.127   -0.107\nPrefer straights               0.3460    0.005  71.921  0.000   0.337    0.355\nEducation                     -0.0237    0.005  -4.453  0.000  -0.034   -0.013\nPolitical: liberal            -0.1985    0.005 -40.037  0.000  -0.208   -0.189\nReligious                      0.0446    0.005   9.728  0.000   0.036    0.054\nTest                          -0.0113    0.008  -1.346  0.178  -0.028    0.005\nMale                          -0.0019    0.009  -0.205  0.838  -0.020    0.016\nGender id.: non-binary         0.0120    0.025   0.473  0.636  -0.038    0.062\nStraight                       0.0081    0.010   0.825  0.409  -0.011    0.027\nQueer                         -0.0281    0.022  -1.253  0.210  -0.072    0.016\nEthn: East Asia                0.0016    0.027   0.057  0.954  -0.052    0.055\nEthn: Multiracial              0.0212    0.024   0.893  0.372  -0.025    0.068\nEthn, Other                    0.0244    0.022   1.119  0.263  -0.018    0.067\nEthn: South Asia              -0.0333    0.029  -1.133  0.257  -0.091    0.024\nEthn: White                    0.0015    0.016   0.092  0.927  -0.030    0.033\nInput: straight first          0.0117    0.008   1.400  0.162  -0.005    0.028\nHas gay fam. member            0.0026    0.009   0.301  0.764  -0.014    0.020\nHas gay friend                 0.0155    0.015   1.063  0.288  -0.013    0.044\nGay friendly                  -0.0079    0.014  -0.547  0.585  -0.036    0.020\nEver met gay person           -0.2111    0.430  -0.491  0.623  -1.053    0.631\nAgainst Adoption              -0.0335    0.024  -1.403  0.160  -0.080    0.013\nAgainst Marriage               0.0185    0.025   0.747  0.455  -0.030    0.067\nAgainst Relationships         -0.0325    0.024  -1.331  0.183  -0.080    0.015\nAgainst workplace              0.0020    0.012   0.163  0.870  -0.022    0.026\nAgainst transgender bathrooms  0.0092    0.012   0.765  0.444  -0.014    0.033",
      "text/html": "<div>\n<style scoped>\n    .dataframe tbody tr th:only-of-type {\n        vertical-align: middle;\n    }\n\n    .dataframe tbody tr th {\n        vertical-align: top;\n    }\n\n    .dataframe thead th {\n        text-align: right;\n    }\n</style>\n<table border=\"1\" class=\"dataframe\">\n  <thead>\n    <tr style=\"text-align: right;\">\n      <th></th>\n      <th>coef</th>\n      <th>std_err</th>\n      <th>t_val</th>\n      <th>p_val</th>\n      <th>low_ci</th>\n      <th>high_ci</th>\n    </tr>\n  </thead>\n  <tbody>\n    <tr>\n      <th>Constant</th>\n      <td>0.1851</td>\n      <td>0.430</td>\n      <td>0.430</td>\n      <td>0.667</td>\n      <td>-0.658</td>\n      <td>1.028</td>\n    </tr>\n    <tr>\n      <th>Year of birth</th>\n      <td>-0.1169</td>\n      <td>0.005</td>\n      <td>-22.199</td>\n      <td>0.000</td>\n      <td>-0.127</td>\n      <td>-0.107</td>\n    </tr>\n    <tr>\n      <th>Prefer straights</th>\n      <td>0.3460</td>\n      <td>0.005</td>\n      <td>71.921</td>\n      <td>0.000</td>\n      <td>0.337</td>\n      <td>0.355</td>\n    </tr>\n    <tr>\n      <th>Education</th>\n      <td>-0.0237</td>\n      <td>0.005</td>\n      <td>-4.453</td>\n      <td>0.000</td>\n      <td>-0.034</td>\n      <td>-0.013</td>\n    </tr>\n    <tr>\n      <th>Political: liberal</th>\n      <td>-0.1985</td>\n      <td>0.005</td>\n      <td>-40.037</td>\n      <td>0.000</td>\n      <td>-0.208</td>\n      <td>-0.189</td>\n    </tr>\n    <tr>\n      <th>Religious</th>\n      <td>0.0446</td>\n      <td>0.005</td>\n      <td>9.728</td>\n      <td>0.000</td>\n      <td>0.036</td>\n      <td>0.054</td>\n    </tr>\n    <tr>\n      <th>Test</th>\n      <td>-0.0113</td>\n      <td>0.008</td>\n      <td>-1.346</td>\n      <td>0.178</td>\n      <td>-0.028</td>\n      <td>0.005</td>\n    </tr>\n    <tr>\n      <th>Male</th>\n      <td>-0.0019</td>\n      <td>0.009</td>\n      <td>-0.205</td>\n      <td>0.838</td>\n      <td>-0.020</td>\n      <td>0.016</td>\n    </tr>\n    <tr>\n      <th>Gender id.: non-binary</th>\n      <td>0.0120</td>\n      <td>0.025</td>\n      <td>0.473</td>\n      <td>0.636</td>\n      <td>-0.038</td>\n      <td>0.062</td>\n    </tr>\n    <tr>\n      <th>Straight</th>\n      <td>0.0081</td>\n      <td>0.010</td>\n      <td>0.825</td>\n      <td>0.409</td>\n      <td>-0.011</td>\n      <td>0.027</td>\n    </tr>\n    <tr>\n      <th>Queer</th>\n      <td>-0.0281</td>\n      <td>0.022</td>\n      <td>-1.253</td>\n      <td>0.210</td>\n      <td>-0.072</td>\n      <td>0.016</td>\n    </tr>\n    <tr>\n      <th>Ethn: East Asia</th>\n      <td>0.0016</td>\n      <td>0.027</td>\n      <td>0.057</td>\n      <td>0.954</td>\n      <td>-0.052</td>\n      <td>0.055</td>\n    </tr>\n    <tr>\n      <th>Ethn: Multiracial</th>\n      <td>0.0212</td>\n      <td>0.024</td>\n      <td>0.893</td>\n      <td>0.372</td>\n      <td>-0.025</td>\n      <td>0.068</td>\n    </tr>\n    <tr>\n      <th>Ethn, Other</th>\n      <td>0.0244</td>\n      <td>0.022</td>\n      <td>1.119</td>\n      <td>0.263</td>\n      <td>-0.018</td>\n      <td>0.067</td>\n    </tr>\n    <tr>\n      <th>Ethn: South Asia</th>\n      <td>-0.0333</td>\n      <td>0.029</td>\n      <td>-1.133</td>\n      <td>0.257</td>\n      <td>-0.091</td>\n      <td>0.024</td>\n    </tr>\n    <tr>\n      <th>Ethn: White</th>\n      <td>0.0015</td>\n      <td>0.016</td>\n      <td>0.092</td>\n      <td>0.927</td>\n      <td>-0.030</td>\n      <td>0.033</td>\n    </tr>\n    <tr>\n      <th>Input: straight first</th>\n      <td>0.0117</td>\n      <td>0.008</td>\n      <td>1.400</td>\n      <td>0.162</td>\n      <td>-0.005</td>\n      <td>0.028</td>\n    </tr>\n    <tr>\n      <th>Has gay fam. member</th>\n      <td>0.0026</td>\n      <td>0.009</td>\n      <td>0.301</td>\n      <td>0.764</td>\n      <td>-0.014</td>\n      <td>0.020</td>\n    </tr>\n    <tr>\n      <th>Has gay friend</th>\n      <td>0.0155</td>\n      <td>0.015</td>\n      <td>1.063</td>\n      <td>0.288</td>\n      <td>-0.013</td>\n      <td>0.044</td>\n    </tr>\n    <tr>\n      <th>Gay friendly</th>\n      <td>-0.0079</td>\n      <td>0.014</td>\n      <td>-0.547</td>\n      <td>0.585</td>\n      <td>-0.036</td>\n      <td>0.020</td>\n    </tr>\n    <tr>\n      <th>Ever met gay person</th>\n      <td>-0.2111</td>\n      <td>0.430</td>\n      <td>-0.491</td>\n      <td>0.623</td>\n      <td>-1.053</td>\n      <td>0.631</td>\n    </tr>\n    <tr>\n      <th>Against Adoption</th>\n      <td>-0.0335</td>\n      <td>0.024</td>\n      <td>-1.403</td>\n      <td>0.160</td>\n      <td>-0.080</td>\n      <td>0.013</td>\n    </tr>\n    <tr>\n      <th>Against Marriage</th>\n      <td>0.0185</td>\n      <td>0.025</td>\n      <td>0.747</td>\n      <td>0.455</td>\n      <td>-0.030</td>\n      <td>0.067</td>\n    </tr>\n    <tr>\n      <th>Against Relationships</th>\n      <td>-0.0325</td>\n      <td>0.024</td>\n      <td>-1.331</td>\n      <td>0.183</td>\n      <td>-0.080</td>\n      <td>0.015</td>\n    </tr>\n    <tr>\n      <th>Against workplace</th>\n      <td>0.0020</td>\n      <td>0.012</td>\n      <td>0.163</td>\n      <td>0.870</td>\n      <td>-0.022</td>\n      <td>0.026</td>\n    </tr>\n    <tr>\n      <th>Against transgender bathrooms</th>\n      <td>0.0092</td>\n      <td>0.012</td>\n      <td>0.765</td>\n      <td>0.444</td>\n      <td>-0.014</td>\n      <td>0.033</td>\n    </tr>\n  </tbody>\n</table>\n</div>"
     },
     "execution_count": 243,
     "metadata": {},
     "output_type": "execute_result"
    }
   ],
   "source": [
    "col_names = [\"Constant\", \"Year of birth\", \"Prefer straights\", \"Education\", \"Political: liberal\",\n",
    "             \"Religious\", \"Test\", \"Male\", \"Gender id.: non-binary\", \"Straight\", \"Queer\", \"Ethn: East Asia\",\n",
    "             \"Ethn: Multiracial\", \"Ethn, Other\", \"Ethn: South Asia\", \"Ethn: White\", \"Input: straight first\", \"Has gay fam. member\", \"Has gay friend\", \"Gay friendly\", \"Ever met gay person\", \"Against Adoption\", \"Against Marriage\", \"Against Relationships\", \"Against workplace\", \"Against transgender bathrooms\"]\n",
    "\n",
    "table_results.index = col_names\n",
    "table_results"
   ],
   "metadata": {
    "collapsed": false,
    "pycharm": {
     "name": "#%%\n"
    }
   }
  },
  {
   "cell_type": "code",
   "execution_count": 252,
   "outputs": [
    {
     "name": "stderr",
     "output_type": "stream",
     "text": [
      "C:\\Users\\tomma\\AppData\\Local\\Temp\\ipykernel_9280\\3687256376.py:16: UserWarning:\n",
      "\n",
      "color is redundantly defined by the 'color' keyword argument and the fmt string \"ro-\" (-> color='r'). The keyword argument will take precedence.\n",
      "\n"
     ]
    },
    {
     "data": {
      "text/plain": "<Figure size 800x500 with 1 Axes>",
      "image/png": "[encoded data removed]"
     },
     "metadata": {},
     "output_type": "display_data"
    }
   ],
   "source": [
    "table_results2 = table_results.iloc[(table_results.index!='Constant') & (table_results.index!='Ever met gay person')]\n",
    "\n",
    "PlotOls(table_results2)"
   ],
   "metadata": {
    "collapsed": false,
    "pycharm": {
     "name": "#%%\n"
    }
   }
  },
  {
   "cell_type": "code",
   "execution_count": 222,
   "outputs": [
    {
     "data": {
      "text/plain": "<Figure size 1000x500 with 1 Axes>",
      "image/png": "[encoded data removed]"
     },
     "metadata": {},
     "output_type": "display_data"
    }
   ],
   "source": [
    "bars = table_results['coef']\n",
    "bars = pd.DataFrame(bars)\n",
    "bars['value'] = np.where(bars['coef']>0, 1, 0)\n",
    "bars['coef'] = abs(bars['coef'])\n",
    "bars = bars.sort_values(by=\"coef\")\n",
    "bars['colors'] = np.where(bars['value']==0, \"green\", \"red\")\n",
    "\n",
    "fig = plt.figure(figsize = (10, 5))\n",
    "plt.barh(bars.index, bars['coef'], color=bars['colors'])\n",
    "plt.xlabel(\"Value\")\n",
    "# y-axis label\n",
    "plt.ylabel(\"Coefficients\")\n",
    "# Title of the figure\n",
    "plt.title(\"Ols coefficients: Predictors of implicit sexual discrimination\")\n",
    "plt.legend(['Positive predictors', 'Negative predicgors'], loc='lower right')\n",
    "plt.show()\n"
   ],
   "metadata": {
    "collapsed": false,
    "pycharm": {
     "name": "#%%\n"
    }
   }
  },
  {
   "cell_type": "markdown",
   "source": [
    "## SPLIT TEST TRAINING (I use 2020 data as train set, 2021 as test) and make prediction"
   ],
   "metadata": {
    "collapsed": false,
    "pycharm": {
     "name": "#%% md\n"
    }
   }
  },
  {
   "cell_type": "code",
   "execution_count": 223,
   "outputs": [],
   "source": [
    "# splitting\n",
    "def SplitDataFrame(df):\n",
    "    df_training = df.loc[df.test == 0]\n",
    "    df_test = df.loc[df.test == 1]\n",
    "\n",
    "    x_tr, y_tr = df_training.drop(['iat'], axis=1), df_training['iat']\n",
    "    x_ts, y_ts = df_test.drop(['iat'], axis=1), df_test['iat']\n",
    "\n",
    "    return x_tr, y_tr, x_ts, y_ts\n",
    "\n",
    "x_tr, y_tr, x_ts, y_ts = SplitDataFrame(df)"
   ],
   "metadata": {
    "collapsed": false,
    "pycharm": {
     "name": "#%%\n"
    }
   }
  },
  {
   "cell_type": "code",
   "execution_count": 223,
   "outputs": [],
   "source": [],
   "metadata": {
    "collapsed": false,
    "pycharm": {
     "name": "#%%\n"
    }
   }
  },
  {
   "cell_type": "markdown",
   "source": [
    "## 1) Linear Regression"
   ],
   "metadata": {
    "collapsed": false,
    "pycharm": {
     "name": "#%% md\n"
    }
   }
  },
  {
   "cell_type": "code",
   "execution_count": 224,
   "outputs": [
    {
     "name": "stdout",
     "output_type": "stream",
     "text": [
      "R2 Ols : 0.2578554318549392\n"
     ]
    }
   ],
   "source": [
    "## 1) Linear regression\n",
    "from sklearn.linear_model import LinearRegression\n",
    "reg = LinearRegression().fit(x_tr, y_tr)\n",
    "\n",
    "## chec r squared\n",
    "r2_ols = reg.score(x_tr, y_tr)\n",
    "\n",
    "## y predicted\n",
    "y_pred_ols = reg.predict(x_ts)\n",
    "\n",
    "print(\"R2 Ols :\", r2_ols)"
   ],
   "metadata": {
    "collapsed": false,
    "pycharm": {
     "name": "#%%\n"
    }
   }
  },
  {
   "cell_type": "markdown",
   "source": [
    "## 2) Random Forest Regressor"
   ],
   "metadata": {
    "collapsed": false,
    "pycharm": {
     "name": "#%% md\n"
    }
   }
  },
  {
   "cell_type": "code",
   "execution_count": 225,
   "outputs": [],
   "source": [
    "from sklearn.ensemble import HistGradientBoostingRegressor\n",
    "from sklearn.preprocessing import OrdinalEncoder\n",
    "from sklearn.compose import ColumnTransformer\n",
    "from sklearn.pipeline import make_pipeline\n",
    "\n",
    "numerical_columns = df[list_numericals]\n",
    "categorical_columns = df.drop(numerical_columns, axis=1)"
   ],
   "metadata": {
    "collapsed": false,
    "pycharm": {
     "name": "#%%\n"
    }
   }
  },
  {
   "cell_type": "code",
   "execution_count": 226,
   "outputs": [
    {
     "data": {
      "text/plain": "\"\\nrfc = RandomForestRegressor()\\nparam_grid = {\\n    'n_estimators': [200, 400],\\n    'max_depth': [10, 20],\\n    'min_samples_split': [3, 5],\\n    'min_samples_leaf': [2, 4],\\n    #'max_features': ['sqrt', 'log2'],\\n    'bootstrap':[True,False]\\n}\\ngrid_search = GridSearchCV(rfc, param_grid, cv=5,return_train_score=True,n_jobs=-1,)\\ngrid_search\\n\\ngrid_search.fit(x_tr, y_tr)\\n\\nparams = pd.DataFrame(grid_search.cv_results_)\\n\""
     },
     "execution_count": 226,
     "metadata": {},
     "output_type": "execute_result"
    }
   ],
   "source": [
    "from sklearn.ensemble import RandomForestRegressor\n",
    "from sklearn.model_selection import GridSearchCV\n",
    "## PARAMETER TUNING WITH RF REGRESSOR (15-20 mins to run)\n",
    "'''\n",
    "rfc = RandomForestRegressor()\n",
    "param_grid = {\n",
    "    'n_estimators': [200, 400],\n",
    "    'max_depth': [10, 20],\n",
    "    'min_samples_split': [3, 5],\n",
    "    'min_samples_leaf': [2, 4],\n",
    "    #'max_features': ['sqrt', 'log2'],\n",
    "    'bootstrap':[True,False]\n",
    "}\n",
    "grid_search = GridSearchCV(rfc, param_grid, cv=5,return_train_score=True,n_jobs=-1,)\n",
    "grid_search\n",
    "\n",
    "grid_search.fit(x_tr, y_tr)\n",
    "\n",
    "params = pd.DataFrame(grid_search.cv_results_)\n",
    "'''"
   ],
   "metadata": {
    "collapsed": false,
    "pycharm": {
     "name": "#%%\n"
    }
   }
  },
  {
   "cell_type": "code",
   "execution_count": 232,
   "outputs": [],
   "source": [
    "#grid_search.best_params_ #To check the best set of parameters returned"
   ],
   "metadata": {
    "collapsed": false,
    "pycharm": {
     "name": "#%%\n"
    }
   }
  },
  {
   "cell_type": "code",
   "execution_count": null,
   "outputs": [],
   "source": [
    "## Display best n. estimators (~15 mins)\n",
    "def GetRF_r2(x_tr, y_tr, estimators):\n",
    "    rfr = RandomForestRegressor(random_state=284567,\n",
    "                                max_depth=10,\n",
    "                                n_estimators=estimators,\n",
    "                                min_samples_split=2,\n",
    "                                min_samples_leaf=1,\n",
    "                                max_features='sqrt',\n",
    "                                bootstrap=False)\n",
    "\n",
    "    rfr.fit(x_tr, y_tr)\n",
    "    r2_rfr = rfr.score(x_tr, y_tr)\n",
    "    return r2_rfr\n",
    "\n",
    "n_estimators = 200, 250, 300, 350, 400, 450, 500, 550, 600, 650, 700\n",
    "r2 = []\n",
    "for i in n_estimators:\n",
    "    current_r2 = GetRF_r2(x_tr, y_tr, i)\n",
    "    r2.append(current_r2)\n",
    "\n",
    "plt.plot(r2)"
   ],
   "metadata": {
    "collapsed": false,
    "pycharm": {
     "name": "#%%\n",
     "is_executing": true
    }
   }
  },
  {
   "cell_type": "code",
   "execution_count": null,
   "outputs": [],
   "source": [
    "## Apply random forest\n",
    "rfr = RandomForestRegressor(random_state=284567,\n",
    "                            max_depth=10,\n",
    "                            n_estimators=n_estimators[7],\n",
    "                            min_samples_split=2,\n",
    "                            min_samples_leaf=1,\n",
    "                            max_features='sqrt',\n",
    "                            bootstrap=False)\n",
    "\n",
    "rfr.fit(x_tr, y_tr)\n",
    "\n",
    "## prediction\n",
    "y_pred_rfr = rfr.predict(x_ts)\n",
    "\n",
    "## Check r squared\n",
    "r2_rfr = rfr.score(x_tr, y_tr)\n",
    "print(\"R2 Ranfom forest: \", r2_rfr)"
   ],
   "metadata": {
    "collapsed": false,
    "pycharm": {
     "name": "#%%\n",
     "is_executing": true
    }
   }
  },
  {
   "cell_type": "markdown",
   "source": [
    "#### Confront ols with Random forest"
   ],
   "metadata": {
    "collapsed": false,
    "pycharm": {
     "name": "#%% md\n"
    }
   }
  },
  {
   "cell_type": "code",
   "execution_count": null,
   "outputs": [],
   "source": [
    "## PLOT R SQUARED\n",
    "r2 = [r2_ols, r2_rfr]\n",
    "\n",
    "plt.bar(['OLS', 'RanfoM Forest'], r2, width=0.4, bottom=None, align='center')\n",
    "plt.title(\"R sq.\")"
   ],
   "metadata": {
    "collapsed": false,
    "pycharm": {
     "name": "#%%\n",
     "is_executing": true
    }
   }
  },
  {
   "cell_type": "code",
   "execution_count": null,
   "outputs": [],
   "source": [
    "## Confronting prediction by model\n",
    "prediction = pd.DataFrame()\n",
    "prediction[\"Y test\"], prediction[\"Y pred OLS\"], prediction['Y pred RFR'] = y_ts, y_pred_ols, y_pred_rfr\n",
    "\n",
    "## plot it\n",
    "fig, ax = plt.subplots()\n",
    "\n",
    "x, y = prediction['Y test'], prediction['Y pred OLS']\n",
    "scale = 20\n",
    "ax.scatter(x, y, c='blue', s=scale, label='OLS', alpha=0.3, edgecolors='none')\n",
    "\n",
    "x, y = prediction['Y test'], prediction['Y pred RFR']\n",
    "scale = 20\n",
    "ax.scatter(x, y, c='orange', s=scale, label='Random Forest', alpha=0.3, edgecolors='none')\n",
    "\n",
    "ax.legend()\n",
    "ax.grid(True)\n",
    "plt.title(\"Prediction by model\")\n",
    "plt.show()"
   ],
   "metadata": {
    "collapsed": false,
    "pycharm": {
     "name": "#%%\n",
     "is_executing": true
    }
   }
  },
  {
   "cell_type": "code",
   "execution_count": null,
   "outputs": [],
   "source": [],
   "metadata": {
    "collapsed": false,
    "pycharm": {
     "name": "#%%\n",
     "is_executing": true
    }
   }
  }
 ],
 "metadata": {
  "kernelspec": {
   "display_name": "Python 3",
   "language": "python",
   "name": "python3"
  },
  "language_info": {
   "codemirror_mode": {
    "name": "ipython",
    "version": 2
   },
   "file_extension": ".py",
   "mimetype": "text/x-python",
   "name": "python",
   "nbconvert_exporter": "python",
   "pygments_lexer": "ipython2",
   "version": "2.7.6"
  }
 },
 "nbformat": 4,
 "nbformat_minor": 0
}