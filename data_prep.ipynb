{
 "cells": [
  {
   "cell_type": "markdown",
   "source": [
    "## PREPARING DATASET:\n",
    "#### 2021 DATASET AS TRAINING DATA\n",
    "#### 2020 DATASET AS TEST SET"
   ],
   "metadata": {
    "collapsed": false,
    "pycharm": {
     "name": "#%% md\n"
    }
   }
  },
  {
   "cell_type": "markdown",
   "source": [
    "## IMPORT THE DATA AND CLEAN COLUMNS"
   ],
   "metadata": {
    "collapsed": false,
    "pycharm": {
     "name": "#%% md\n"
    }
   }
  },
  {
   "cell_type": "code",
   "execution_count": 26,
   "outputs": [],
   "source": [
    "## import libraries\n",
    "import pandas as pd\n",
    "import warnings\n",
    "warnings.filterwarnings('ignore')\n"
   ],
   "metadata": {
    "collapsed": false,
    "pycharm": {
     "name": "#%%\n"
    }
   }
  },
  {
   "cell_type": "code",
   "execution_count": 27,
   "outputs": [],
   "source": [
    "## OPEN DATA\n",
    "df1 = pd.read_spss('Sexuality_IAT.public.2020.sav')\n",
    "df2 = pd.read_spss('Sexuality_IAT.public.2021.sav')\n",
    "df1['test'], df2['test'] = 0, 1"
   ],
   "metadata": {
    "collapsed": false,
    "pycharm": {
     "name": "#%%\n"
    }
   }
  },
  {
   "cell_type": "code",
   "execution_count": 14,
   "outputs": [
    {
     "data": {
      "text/plain": "                       index  missing\n0             session_status        0\n1    previous_session_schema        0\n2                    user_id        0\n3             broughtwebsite        0\n4             occuSelfDetail        0\n..                       ...      ...\n137                   pvd010   477153\n138                   pvd013   477163\n139                   pvd012   477172\n140                   pvd014   477195\n141                   pvd015   477375\n\n[142 rows x 2 columns]",
      "text/html": "<div>\n<style scoped>\n    .dataframe tbody tr th:only-of-type {\n        vertical-align: middle;\n    }\n\n    .dataframe tbody tr th {\n        vertical-align: top;\n    }\n\n    .dataframe thead th {\n        text-align: right;\n    }\n</style>\n<table border=\"1\" class=\"dataframe\">\n  <thead>\n    <tr style=\"text-align: right;\">\n      <th></th>\n      <th>index</th>\n      <th>missing</th>\n    </tr>\n  </thead>\n  <tbody>\n    <tr>\n      <th>0</th>\n      <td>session_status</td>\n      <td>0</td>\n    </tr>\n    <tr>\n      <th>1</th>\n      <td>previous_session_schema</td>\n      <td>0</td>\n    </tr>\n    <tr>\n      <th>2</th>\n      <td>user_id</td>\n      <td>0</td>\n    </tr>\n    <tr>\n      <th>3</th>\n      <td>broughtwebsite</td>\n      <td>0</td>\n    </tr>\n    <tr>\n      <th>4</th>\n      <td>occuSelfDetail</td>\n      <td>0</td>\n    </tr>\n    <tr>\n      <th>...</th>\n      <td>...</td>\n      <td>...</td>\n    </tr>\n    <tr>\n      <th>137</th>\n      <td>pvd010</td>\n      <td>477153</td>\n    </tr>\n    <tr>\n      <th>138</th>\n      <td>pvd013</td>\n      <td>477163</td>\n    </tr>\n    <tr>\n      <th>139</th>\n      <td>pvd012</td>\n      <td>477172</td>\n    </tr>\n    <tr>\n      <th>140</th>\n      <td>pvd014</td>\n      <td>477195</td>\n    </tr>\n    <tr>\n      <th>141</th>\n      <td>pvd015</td>\n      <td>477375</td>\n    </tr>\n  </tbody>\n</table>\n<p>142 rows × 2 columns</p>\n</div>"
     },
     "execution_count": 14,
     "metadata": {},
     "output_type": "execute_result"
    }
   ],
   "source": [
    "## See missing values in columns\n",
    "def sort_missing(df):\n",
    "    ## sort by number of missing values\n",
    "    missing, keys, values = {}, [], []\n",
    "    for i in df.columns:\n",
    "        keys.append(i)\n",
    "        values.append(df[f'{i}'].isna().sum())\n",
    "    missing = dict(zip(keys, values))\n",
    "    missing = pd.DataFrame(missing.values(), missing.keys())\n",
    "    missing = missing.iloc[1:, :]\n",
    "    missing.rename(columns = {0: \"missing\"}, inplace=True)\n",
    "    missing.sort_values(by=\"missing\", ascending=True, inplace=True)\n",
    "    missing.reset_index(inplace=True)\n",
    "    return missing\n",
    "\n",
    "sort_missing(df1)"
   ],
   "metadata": {
    "collapsed": false,
    "pycharm": {
     "name": "#%%\n"
    }
   }
  },
  {
   "cell_type": "code",
   "execution_count": 19,
   "outputs": [],
   "source": [
    "## define test and training\n",
    "df1['test'], df2['test'] = 0, 1\n",
    "\n",
    "## choose variables of interes (see codebook)\n",
    "columns =   ['weekday', 'birthyear', 'num_002', 'birthSex', 'genderIdentity',\n",
    "            'sexuality_5', 'ethnicityomb', 'raceomb_002', 'raceombmulti', 'D_biep.Straight_Good_all',\n",
    "            'Mn_RT_all_3467', 'PCT_error_3467', 'Side_Good_34', 'Side_Straight_34',\n",
    "            'Tgayleswomen', 'Tgaymen', 'Tstraightmen', 'Tstraightwomen', 'att_7',\n",
    "            'contactfamily_num', 'contactfriend_num', 'contactfriendly_num',\n",
    "            'contactmet_num', 'adoptchild', 'marriagerights_3num',\n",
    "            'relationslegal_3num', 'serverights', 'transgender', 'countrycit_num',\n",
    "            'edu', 'edu_14', 'politicalid_7', 'occuSelf', 'occuSelfDetail',\n",
    "            'religion2014', 'religionid']\n",
    "\n",
    "## merge the datasets\n",
    "df1 = pd.DataFrame(df1, columns = columns)\n",
    "df2 = pd.DataFrame(df2, columns = columns)\n",
    "df = pd.concat([df1, df2])\n",
    "\n",
    "## clean columns names\n",
    "df.rename(columns = {\"D_biep.Straight_Good_all\": \"iat\",\n",
    "                         \"birthyear\": \"y_birth\",\n",
    "                         \"att_7\": \"prefer_straight\",\n",
    "                         \"politicalid_7\": \"liberal\",\n",
    "                         \"religionid\": \"religious\",},\n",
    "          inplace=True)\n",
    "\n",
    "## lower case\n",
    "for i in df.columns:\n",
    "    df.rename(columns = {f\"{i}\": f\"{i.lower()}\"}, inplace=True)"
   ],
   "metadata": {
    "collapsed": false,
    "pycharm": {
     "name": "#%%\n"
    }
   }
  },
  {
   "cell_type": "markdown",
   "source": [
    "## PREPARE VARIABLES"
   ],
   "metadata": {
    "collapsed": false,
    "pycharm": {
     "name": "#%% md\n"
    }
   }
  },
  {
   "cell_type": "code",
   "execution_count": 23,
   "outputs": [],
   "source": [
    "## Generate row means of variables (might add pca)\n",
    "def row_mean(subset, sample):\n",
    "    newcol = subset.sum(axis=1) / sample\n",
    "    return newcol\n",
    "\n",
    "## gender feeling: being confortable with gay people\n",
    "df['gender_feel'] = row_mean(df.loc[:, ['tgayleswomen', 'tgaymen', 'tstraightmen', 'tstraightwomen']], 4)\n",
    "\n",
    "## gender prejudice: explicit gendere prejudice\n",
    "df['gender_preg'] = row_mean(df.loc[:, ['adoptchild', 'marriagerights_3num', 'relationslegal_3num',\n",
    "                                    'serverights', 'transgender', 'countrycit_num']], 6)\n"
   ],
   "metadata": {
    "collapsed": false,
    "pycharm": {
     "name": "#%%\n"
    }
   }
  },
  {
   "cell_type": "code",
   "execution_count": 24,
   "outputs": [
    {
     "ename": "KeyError",
     "evalue": "'gn_id'",
     "output_type": "error",
     "traceback": [
      "\u001B[1;31m---------------------------------------------------------------------------\u001B[0m",
      "\u001B[1;31mKeyError\u001B[0m                                  Traceback (most recent call last)",
      "File \u001B[1;32m~\\anaconda3\\envs\\ds\\lib\\site-packages\\pandas\\core\\indexes\\base.py:3621\u001B[0m, in \u001B[0;36mIndex.get_loc\u001B[1;34m(self, key, method, tolerance)\u001B[0m\n\u001B[0;32m   3620\u001B[0m \u001B[38;5;28;01mtry\u001B[39;00m:\n\u001B[1;32m-> 3621\u001B[0m     \u001B[38;5;28;01mreturn\u001B[39;00m \u001B[38;5;28;43mself\u001B[39;49m\u001B[38;5;241;43m.\u001B[39;49m\u001B[43m_engine\u001B[49m\u001B[38;5;241;43m.\u001B[39;49m\u001B[43mget_loc\u001B[49m\u001B[43m(\u001B[49m\u001B[43mcasted_key\u001B[49m\u001B[43m)\u001B[49m\n\u001B[0;32m   3622\u001B[0m \u001B[38;5;28;01mexcept\u001B[39;00m \u001B[38;5;167;01mKeyError\u001B[39;00m \u001B[38;5;28;01mas\u001B[39;00m err:\n",
      "File \u001B[1;32m~\\anaconda3\\envs\\ds\\lib\\site-packages\\pandas\\_libs\\index.pyx:136\u001B[0m, in \u001B[0;36mpandas._libs.index.IndexEngine.get_loc\u001B[1;34m()\u001B[0m\n",
      "File \u001B[1;32m~\\anaconda3\\envs\\ds\\lib\\site-packages\\pandas\\_libs\\index.pyx:163\u001B[0m, in \u001B[0;36mpandas._libs.index.IndexEngine.get_loc\u001B[1;34m()\u001B[0m\n",
      "File \u001B[1;32mpandas\\_libs\\hashtable_class_helper.pxi:5198\u001B[0m, in \u001B[0;36mpandas._libs.hashtable.PyObjectHashTable.get_item\u001B[1;34m()\u001B[0m\n",
      "File \u001B[1;32mpandas\\_libs\\hashtable_class_helper.pxi:5206\u001B[0m, in \u001B[0;36mpandas._libs.hashtable.PyObjectHashTable.get_item\u001B[1;34m()\u001B[0m\n",
      "\u001B[1;31mKeyError\u001B[0m: 'gn_id'",
      "\nThe above exception was the direct cause of the following exception:\n",
      "\u001B[1;31mKeyError\u001B[0m                                  Traceback (most recent call last)",
      "Input \u001B[1;32mIn [24]\u001B[0m, in \u001B[0;36m<cell line: 4>\u001B[1;34m()\u001B[0m\n\u001B[0;32m      1\u001B[0m \u001B[38;5;66;03m## RECATEGORIZE VARIABLES VALUES AND CLEAN \u001B[39;00m\n\u001B[0;32m      2\u001B[0m \u001B[38;5;66;03m## give names to categorical values\u001B[39;00m\n\u001B[0;32m      3\u001B[0m df \u001B[38;5;241m=\u001B[39m df\u001B[38;5;241m.\u001B[39mastype(\u001B[38;5;124m'\u001B[39m\u001B[38;5;124mobject\u001B[39m\u001B[38;5;124m'\u001B[39m)\n\u001B[1;32m----> 4\u001B[0m \u001B[43mdf\u001B[49m\u001B[43m[\u001B[49m\u001B[38;5;124;43m'\u001B[39;49m\u001B[38;5;124;43mgn_id\u001B[39;49m\u001B[38;5;124;43m'\u001B[39;49m\u001B[43m]\u001B[49m\u001B[38;5;241m.\u001B[39mreplace({\u001B[38;5;124m'\u001B[39m\u001B[38;5;124m[1]\u001B[39m\u001B[38;5;124m'\u001B[39m:\u001B[38;5;124m'\u001B[39m\u001B[38;5;124mM\u001B[39m\u001B[38;5;124m'\u001B[39m, \u001B[38;5;124m'\u001B[39m\u001B[38;5;124m[2]\u001B[39m\u001B[38;5;124m'\u001B[39m:\u001B[38;5;124m'\u001B[39m\u001B[38;5;124mF\u001B[39m\u001B[38;5;124m'\u001B[39m, \u001B[38;5;124m'\u001B[39m\u001B[38;5;124m[3]\u001B[39m\u001B[38;5;124m'\u001B[39m: \u001B[38;5;124m'\u001B[39m\u001B[38;5;124mTrans_M\u001B[39m\u001B[38;5;124m'\u001B[39m,\n\u001B[0;32m      5\u001B[0m                          \u001B[38;5;124m'\u001B[39m\u001B[38;5;124m[4]\u001B[39m\u001B[38;5;124m'\u001B[39m: \u001B[38;5;124m'\u001B[39m\u001B[38;5;124mTrans_F\u001B[39m\u001B[38;5;124m'\u001B[39m, \u001B[38;5;124m'\u001B[39m\u001B[38;5;124m[5]\u001B[39m\u001B[38;5;124m'\u001B[39m: \u001B[38;5;124m'\u001B[39m\u001B[38;5;124mqueer\u001B[39m\u001B[38;5;124m'\u001B[39m, \u001B[38;5;124m'\u001B[39m\u001B[38;5;124m[6]\u001B[39m\u001B[38;5;124m'\u001B[39m: \u001B[38;5;124m'\u001B[39m\u001B[38;5;124mother\u001B[39m\u001B[38;5;124m'\u001B[39m },\n\u001B[0;32m      6\u001B[0m                         inplace\u001B[38;5;241m=\u001B[39m\u001B[38;5;28;01mTrue\u001B[39;00m)\n",
      "File \u001B[1;32m~\\anaconda3\\envs\\ds\\lib\\site-packages\\pandas\\core\\frame.py:3505\u001B[0m, in \u001B[0;36mDataFrame.__getitem__\u001B[1;34m(self, key)\u001B[0m\n\u001B[0;32m   3503\u001B[0m \u001B[38;5;28;01mif\u001B[39;00m \u001B[38;5;28mself\u001B[39m\u001B[38;5;241m.\u001B[39mcolumns\u001B[38;5;241m.\u001B[39mnlevels \u001B[38;5;241m>\u001B[39m \u001B[38;5;241m1\u001B[39m:\n\u001B[0;32m   3504\u001B[0m     \u001B[38;5;28;01mreturn\u001B[39;00m \u001B[38;5;28mself\u001B[39m\u001B[38;5;241m.\u001B[39m_getitem_multilevel(key)\n\u001B[1;32m-> 3505\u001B[0m indexer \u001B[38;5;241m=\u001B[39m \u001B[38;5;28;43mself\u001B[39;49m\u001B[38;5;241;43m.\u001B[39;49m\u001B[43mcolumns\u001B[49m\u001B[38;5;241;43m.\u001B[39;49m\u001B[43mget_loc\u001B[49m\u001B[43m(\u001B[49m\u001B[43mkey\u001B[49m\u001B[43m)\u001B[49m\n\u001B[0;32m   3506\u001B[0m \u001B[38;5;28;01mif\u001B[39;00m is_integer(indexer):\n\u001B[0;32m   3507\u001B[0m     indexer \u001B[38;5;241m=\u001B[39m [indexer]\n",
      "File \u001B[1;32m~\\anaconda3\\envs\\ds\\lib\\site-packages\\pandas\\core\\indexes\\base.py:3623\u001B[0m, in \u001B[0;36mIndex.get_loc\u001B[1;34m(self, key, method, tolerance)\u001B[0m\n\u001B[0;32m   3621\u001B[0m     \u001B[38;5;28;01mreturn\u001B[39;00m \u001B[38;5;28mself\u001B[39m\u001B[38;5;241m.\u001B[39m_engine\u001B[38;5;241m.\u001B[39mget_loc(casted_key)\n\u001B[0;32m   3622\u001B[0m \u001B[38;5;28;01mexcept\u001B[39;00m \u001B[38;5;167;01mKeyError\u001B[39;00m \u001B[38;5;28;01mas\u001B[39;00m err:\n\u001B[1;32m-> 3623\u001B[0m     \u001B[38;5;28;01mraise\u001B[39;00m \u001B[38;5;167;01mKeyError\u001B[39;00m(key) \u001B[38;5;28;01mfrom\u001B[39;00m \u001B[38;5;21;01merr\u001B[39;00m\n\u001B[0;32m   3624\u001B[0m \u001B[38;5;28;01mexcept\u001B[39;00m \u001B[38;5;167;01mTypeError\u001B[39;00m:\n\u001B[0;32m   3625\u001B[0m     \u001B[38;5;66;03m# If we have a listlike key, _check_indexing_error will raise\u001B[39;00m\n\u001B[0;32m   3626\u001B[0m     \u001B[38;5;66;03m#  InvalidIndexError. Otherwise we fall through and re-raise\u001B[39;00m\n\u001B[0;32m   3627\u001B[0m     \u001B[38;5;66;03m#  the TypeError.\u001B[39;00m\n\u001B[0;32m   3628\u001B[0m     \u001B[38;5;28mself\u001B[39m\u001B[38;5;241m.\u001B[39m_check_indexing_error(key)\n",
      "\u001B[1;31mKeyError\u001B[0m: 'gn_id'"
     ]
    }
   ],
   "source": [
    "## RECATEGORIZE VARIABLES VALUES AND CLEAN\n",
    "## give names to categorical values\n",
    "df = df.astype('object')\n",
    "df['gn_id'].replace({'[1]':'M', '[2]':'F', '[3]': 'Trans_M',\n",
    "                         '[4]': 'Trans_F', '[5]': 'queer', '[6]': 'other' },\n",
    "                        inplace=True)\n"
   ],
   "metadata": {
    "collapsed": false,
    "pycharm": {
     "name": "#%%\n"
    }
   }
  },
  {
   "cell_type": "code",
   "execution_count": 25,
   "outputs": [
    {
     "name": "stdout",
     "output_type": "stream",
     "text": [
      "weekday\n",
      "birthyear\n",
      "num_002\n",
      "birthsex\n",
      "genderidentity\n",
      "sexuality_5\n",
      "ethnicityomb\n",
      "raceomb_002\n",
      "raceombmulti\n",
      "d_biep.straight_good_all\n",
      "mn_rt_all_3467\n",
      "pct_error_3467\n",
      "side_good_34\n",
      "side_straight_34\n",
      "tgayleswomen\n",
      "tgaymen\n",
      "tstraightmen\n",
      "tstraightwomen\n",
      "att_7\n",
      "contactfamily_num\n",
      "contactfriend_num\n",
      "contactfriendly_num\n",
      "contactmet_num\n",
      "adoptchild\n",
      "marriagerights_3num\n",
      "relationslegal_3num\n",
      "serverights\n",
      "transgender\n",
      "countrycit_num\n",
      "edu\n",
      "edu_14\n",
      "politicalid_7\n",
      "occuself\n",
      "occuselfdetail\n",
      "religion2014\n",
      "religionid\n",
      "gender_feel\n",
      "gender_preg\n"
     ]
    }
   ],
   "source": [
    "for i in df:\n",
    "    print(i)"
   ],
   "metadata": {
    "collapsed": false,
    "pycharm": {
     "name": "#%%\n"
    }
   }
  },
  {
   "cell_type": "code",
   "execution_count": null,
   "outputs": [],
   "source": [],
   "metadata": {
    "collapsed": false,
    "pycharm": {
     "name": "#%%\n"
    }
   }
  }
 ],
 "metadata": {
  "kernelspec": {
   "display_name": "Python 3",
   "language": "python",
   "name": "python3"
  },
  "language_info": {
   "codemirror_mode": {
    "name": "ipython",
    "version": 2
   },
   "file_extension": ".py",
   "mimetype": "text/x-python",
   "name": "python",
   "nbconvert_exporter": "python",
   "pygments_lexer": "ipython2",
   "version": "2.7.6"
  }
 },
 "nbformat": 4,
 "nbformat_minor": 0
}